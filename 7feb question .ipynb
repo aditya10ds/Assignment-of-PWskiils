{
 "cells": [
  {
   "cell_type": "markdown",
   "id": "d6aaa5f9-a98f-4d4f-9a8e-8a3ed4b86db3",
   "metadata": {},
   "source": [
    "Q1. You are writing code for a company. The requirement of the company is that you create a python\n",
    "function that will check whether the password entered by the user is correct or not. The function should\n",
    "take the password as input and return the string “Valid Password” if the entered password follows the\n",
    "below-given password guidelines else it should return “Invalid Password”.\n",
    "\n",
    "Note:\n",
    "1. The Password should contain at least two uppercase letters and at least two lowercase letters.\n",
    "\n",
    "2. The Password should contain at least a number and three special characters.\n",
    "\n",
    "3. The length of the password should be 10 characters long."
   ]
  },
  {
   "cell_type": "code",
   "execution_count": 16,
   "id": "55926004-e7eb-4ed7-b849-1dff0717cdbc",
   "metadata": {},
   "outputs": [],
   "source": [
    "def check_password(password) :\n",
    "    \n",
    "    if len(password) !=10 :\n",
    "        return \"Invalid Password\"\n",
    "    \n",
    "    upper_count = 0 \n",
    "    lower_count = 0\n",
    "    digit_count = 0\n",
    "    special_count = 0\n",
    "    \n",
    "    for character in password:\n",
    "        if character.isupper():\n",
    "            upper_count += 1\n",
    "            \n",
    "        elif character.islower():\n",
    "            lower_count += 1\n",
    "            \n",
    "        elif character.isdigit():\n",
    "            digit_count += 1\n",
    "            \n",
    "        elif character in \"!@#$%^&*()_+{}|:\\\"<>?~\\-=\\[\\];',./\\\\\":\n",
    "            special_count += 1   \n",
    "                             \n",
    "    if upper_count < 2 or lower_count < 2:\n",
    "        return \"Invalid Password\"\n",
    "    \n",
    "    if digit_count == 0 or special_count < 3:\n",
    "        return \"Invalid Password\"\n",
    "    \n",
    "    return \"Valid Password\""
   ]
  },
  {
   "cell_type": "code",
   "execution_count": 19,
   "id": "7b921008-22f3-4a9c-ac02-759b75bdbf30",
   "metadata": {},
   "outputs": [
    {
     "data": {
      "text/plain": [
       "'Invalid Password'"
      ]
     },
     "execution_count": 19,
     "metadata": {},
     "output_type": "execute_result"
    }
   ],
   "source": [
    "check_password(\"Abcd123@#\")"
   ]
  },
  {
   "cell_type": "markdown",
   "id": "11dcaaff-6061-4002-8ef6-bcad2aaa1962",
   "metadata": {},
   "source": [
    "Q2. Solve the below-given questions using at least one of the following:\n",
    "1. Lambda function\n",
    "2. Filter function\n",
    "3. Zap function\n",
    "4. List Comprehension\n",
    "<!--\n",
    "B Check if the string starts with a particular letterY\n",
    "B Check if the string is numericY\n",
    "B Sort a list of tuples having fruit names and their quantity. [(\"mango\",99),(\"orange\",80), (\"grapes\", 1000)-\n",
    "B Find the squares of numbers from 1 to 10Y\n",
    "B Find the cube root of numbers from 1 to 10Y\n",
    "B Check if a given number is evenY\n",
    "B Filter odd numbers from the given list.\n",
    "[1,2,3,4,5,6,7,8,9,10]\n",
    "B Sort a list of integers into positive and negative integers lists.\n",
    "[1,2,3,4,5,6,-1,-2,-3,-4,-5,0] \n",
    "-->"
   ]
  },
  {
   "cell_type": "code",
   "execution_count": 1,
   "id": "6f820be8-3a1d-43f2-ba82-d23a9562b41e",
   "metadata": {},
   "outputs": [],
   "source": [
    "#    Check if the string starts with a particular letterY\n",
    "#    Check if the string is numeric\n",
    "#    Sort a list of tuples having fruit names and their quantity. [(\"mango\",99),(\"orange\",80), (\"grapes\", 1000)-\n",
    "#    Find the squares of numbers from 1 to 10Y\n",
    "#    Find the cube root of numbers from 1 to 10Y\n",
    "#    Check if a given number is evenY\n",
    "#    Filter odd numbers from the given list.\n",
    "#    [1,2,3,4,5,6,7,8,9,10]\n",
    "#    Sort a list of integers into positive and negative integers lists.\n",
    "#    [1,2,3,4,5,6,-1,-2,-3,-4,-5,0] "
   ]
  },
  {
   "cell_type": "code",
   "execution_count": 4,
   "id": "ec61517b-05a6-4de2-bfdc-50219215d55d",
   "metadata": {},
   "outputs": [
    {
     "data": {
      "text/plain": [
       "['banana']"
      ]
     },
     "execution_count": 4,
     "metadata": {},
     "output_type": "execute_result"
    }
   ],
   "source": [
    "string_list = [\"apple\", \"banana\", \"cherry\", \"grape\"]\n",
    "letter = \"b\"\n",
    "\n",
    "result = list(filter(lambda x: x.startswith(letter), string_list))\n",
    "result\n"
   ]
  },
  {
   "cell_type": "code",
   "execution_count": 5,
   "id": "dd432c8d-57b5-4dd8-ad31-3ff5520661e3",
   "metadata": {},
   "outputs": [
    {
     "data": {
      "text/plain": [
       "['123', '456', '789']"
      ]
     },
     "execution_count": 5,
     "metadata": {},
     "output_type": "execute_result"
    }
   ],
   "source": [
    "string_list = [\"123\", \"apple\", \"456\", \"789\", \"cherry\"]\n",
    "\n",
    "result = list(filter(lambda x: x.isnumeric(), string_list))\n",
    "result\n"
   ]
  },
  {
   "cell_type": "code",
   "execution_count": 6,
   "id": "c4653b16-b2d5-455c-8456-754b504884c8",
   "metadata": {},
   "outputs": [
    {
     "data": {
      "text/plain": [
       "[('orange', 80), ('mango', 99), ('grapes', 1000)]"
      ]
     },
     "execution_count": 6,
     "metadata": {},
     "output_type": "execute_result"
    }
   ],
   "source": [
    "fruits = [(\"mango\", 99), (\"orange\", 80), (\"grapes\", 1000)]\n",
    "\n",
    "sorted_fruits = sorted(fruits, key=lambda x: x[1])\n",
    "sorted_fruits\n"
   ]
  },
  {
   "cell_type": "code",
   "execution_count": 7,
   "id": "c3cd6ced-9b1c-4c9b-bb46-131984f6dd45",
   "metadata": {},
   "outputs": [
    {
     "data": {
      "text/plain": [
       "[1, 4, 9, 16, 25, 36, 49, 64, 81, 100]"
      ]
     },
     "execution_count": 7,
     "metadata": {},
     "output_type": "execute_result"
    }
   ],
   "source": [
    "squares = [x**2 for x in range(1, 11)]\n",
    "squares\n",
    "\n"
   ]
  },
  {
   "cell_type": "code",
   "execution_count": 8,
   "id": "3649efeb-72c4-4208-8a4a-95aaebe335c1",
   "metadata": {},
   "outputs": [
    {
     "data": {
      "text/plain": [
       "[1.0,\n",
       " 1.2599210498948732,\n",
       " 1.4422495703074083,\n",
       " 1.5874010519681994,\n",
       " 1.7099759466766968,\n",
       " 1.8171205928321397,\n",
       " 1.912931182772389,\n",
       " 2.0,\n",
       " 2.080083823051904,\n",
       " 2.154434690031884]"
      ]
     },
     "execution_count": 8,
     "metadata": {},
     "output_type": "execute_result"
    }
   ],
   "source": [
    "import math\n",
    "\n",
    "cube_roots = [math.pow(x, 1/3) for x in range(1, 11)]\n",
    "cube_roots\n"
   ]
  },
  {
   "cell_type": "code",
   "execution_count": 9,
   "id": "b84e6a29-6e6d-498e-b0e9-71b102e0ca26",
   "metadata": {},
   "outputs": [
    {
     "data": {
      "text/plain": [
       "[False, True, False, True, False, True, False, True, False, True]"
      ]
     },
     "execution_count": 9,
     "metadata": {},
     "output_type": "execute_result"
    }
   ],
   "source": [
    "numbers = [1, 2, 3, 4, 5, 6, 7, 8, 9, 10]\n",
    "is_even = lambda x: x % 2 == 0\n",
    "\n",
    "result = list(map(is_even, numbers))\n",
    "result\n"
   ]
  },
  {
   "cell_type": "code",
   "execution_count": 10,
   "id": "4c22ec9b-c903-4241-afa4-ab838f30ca89",
   "metadata": {},
   "outputs": [
    {
     "data": {
      "text/plain": [
       "[1, 3, 5, 7, 9]"
      ]
     },
     "execution_count": 10,
     "metadata": {},
     "output_type": "execute_result"
    }
   ],
   "source": [
    "numbers = [1, 2, 3, 4, 5, 6, 7, 8, 9, 10]\n",
    "\n",
    "odd_numbers = list(filter(lambda x: x % 2 != 0, numbers))\n",
    "odd_numbers\n"
   ]
  },
  {
   "cell_type": "code",
   "execution_count": null,
   "id": "50bbe274-f475-4301-a119-71b7b2a1d370",
   "metadata": {},
   "outputs": [],
   "source": [
    "numbers = [1, 2, 3, 4, 5, 6, -1, -2, -3, -4, -5, 0]\n",
    "\n",
    "positive_numbers = sorted([x for x in numbers if x > 0])\n",
    "negative_numbers = sorted([x for x in numbers if x < 0])\n",
    "\n",
    "print(positive_numbers)\n",
    "print(negative_numbers)\n"
   ]
  }
 ],
 "metadata": {
  "kernelspec": {
   "display_name": "Python 3 (ipykernel)",
   "language": "python",
   "name": "python3"
  },
  "language_info": {
   "codemirror_mode": {
    "name": "ipython",
    "version": 3
   },
   "file_extension": ".py",
   "mimetype": "text/x-python",
   "name": "python",
   "nbconvert_exporter": "python",
   "pygments_lexer": "ipython3",
   "version": "3.10.8"
  }
 },
 "nbformat": 4,
 "nbformat_minor": 5
}
