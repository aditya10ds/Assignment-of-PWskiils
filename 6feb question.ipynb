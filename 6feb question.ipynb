{
 "cells": [
  {
   "cell_type": "markdown",
   "id": "a007c48c-d7b7-469b-ace1-77dd8127fc1e",
   "metadata": {},
   "source": [
    "Q1. Create a function which will take a list as an argument and return the product of all the numbers\n",
    "after creating a flat list.\n",
    "\n",
    "Use the below-given list as an argument for your function.\n",
    "list1 = [1,2,3,4, [44,55,66, True], False, (34,56,78,89,34), {1,2,3,3,2,1}, {1:34, \"key2\": [55, 67, 78, 89], 4: (45,\n",
    "22, 61, 34)}, [56, 'data science'], 'Machine Learning']\n",
    "\n",
    "Note: you must extract numeric keys and values of the dictionary also.\n"
   ]
  },
  {
   "cell_type": "code",
   "execution_count": 35,
   "id": "2069b32d-917c-4a44-b4aa-3101d78f88e9",
   "metadata": {},
   "outputs": [],
   "source": [
    "list1 = [1,2,3,4, [44,55,66, True], False, (34,56,78,89,34), {1,2,3,3,2,1},\n",
    "         {1:34, \"key2\": [55, 67, 78, 89], 4: (45, 22, 61, 34)}, [56, 'data science'], 'Machine Learning']"
   ]
  },
  {
   "cell_type": "code",
   "execution_count": 62,
   "id": "1f5ee67f-8282-4e20-a8d4-6d0fff679b47",
   "metadata": {},
   "outputs": [],
   "source": [
    "def get_product(list1):\n",
    "    flat_list = []\n",
    "    for i in list1 :\n",
    "        if type(i) in (list , tuple , set ):\n",
    "            flat_list.extend(get_numbers(i))\n",
    "            \n",
    "        elif  type(i) == dict :\n",
    "                flat_list.extend(get_numbers(i.keys()))\n",
    "                flat_list.extend(get_numbers(i.values()))\n",
    "            \n",
    "        else :\n",
    "             flat_list.append(i)\n",
    "        \n",
    "    \n",
    "        product = 1\n",
    "    for num in flat_list:\n",
    "        if type(num) == int or type(num) == float:\n",
    "            product *= num\n",
    "    return product\n",
    "\n",
    "def get_numbers(list1):\n",
    "    numbers = []\n",
    "    for i in list1:\n",
    "        if type(i) == int or type(i) == float:\n",
    "            numbers.append(i)\n",
    "    return numbers \n",
    "                       "
   ]
  },
  {
   "cell_type": "code",
   "execution_count": 64,
   "id": "340d8c5a-813e-4855-863a-27989c2c76e3",
   "metadata": {},
   "outputs": [
    {
     "name": "stdout",
     "output_type": "stream",
     "text": [
      "78718933113238978560\n"
     ]
    }
   ],
   "source": [
    "list1 = [1,2,3,4, [44,55,66, True], False, (34,56,78,89,34), {1,2,3,3,2,1}, {1:34, \"key2\": [55, 67, 78, 89], 4: (45, 22, 61, 34)}, [56, 'data science'], 'Machine Learning']\n",
    "print(get_product(list1)) # Output: 1103539139366400\n"
   ]
  },
  {
   "cell_type": "markdown",
   "id": "d3939b73-9bf3-47e8-9437-34d056b46bd3",
   "metadata": {},
   "source": [
    "Q2. Write a python program for encrypting a message sent to you by your friend. \n",
    "The logic of encryption should be such that, for a the output should be z.\n",
    "For b, the output should be y. For c, the output should be x respectively. \n",
    "Also, the whitespace should be replaced with a dollar sign. Keep the punctuation\n",
    "marks unchanged.\n",
    "\n",
    "Input Sentence: I want to become a Data Scientist.\n",
    "                r$dzmg$gl$yvxlnv$z$wzga$hxrvmgrhg\n",
    "\n",
    "Encrypt the above input sentence using the program you just created.\n",
    "\n",
    "Note: Convert the given input sentence into lowercase before encrypting. The final output should be\n",
    "lowercase."
   ]
  },
  {
   "cell_type": "code",
   "execution_count": 89,
   "id": "b0a80203-077b-47cf-9e0e-24b75215bab3",
   "metadata": {},
   "outputs": [
    {
     "name": "stdout",
     "output_type": "stream",
     "text": [
      "r$dzmg$gl$yvxlnv$z$wzgz$hxrvmgrhg.\n"
     ]
    }
   ],
   "source": [
    "def encrypt_message(message):\n",
    "    encrypted_message = \"\"   # Initialize an empty string to store the encrypted message\n",
    "    for char in message.lower():  # Loop through each character in the input message after \n",
    "                                    # converting it to lowercase\n",
    "        if char == \" \":  # Check if the character is a space\n",
    "            encrypted_message += \"$\"  # Replace the space with a dollar sign and add it to the encrypted message\n",
    "        elif char.isalpha():  # Check if the character is an alphabet\n",
    "            encrypted_message += chr(219 - ord(char))  # Calculate the encrypted character by subtracting \n",
    "                        # the ASCII code of the character from 219 and adding the corresponding character to \n",
    "                        # the encrypted message\n",
    "        else:\n",
    "            encrypted_message += char  # Add the character to the encrypted message as is if it is not a space\n",
    "                                        # or an alphabet\n",
    "    return encrypted_message  # Return the encrypted message\n",
    "\n",
    "input_sentence = \"I want to become a Data Scientist.\" \n",
    "                        # Define the input sentence\n",
    "encrypted_sentence = encrypt_message(input_sentence) \n",
    "                                                      # Call the encrypt_message function with the input \n",
    "                                       # sentence as argument and store the result in a variable\n",
    "print(encrypted_sentence)  # Print the encrypted message\n"
   ]
  },
  {
   "cell_type": "code",
   "execution_count": 88,
   "id": "cf2ac0b2-7cf3-41dd-8f8e-202ecfd89bde",
   "metadata": {},
   "outputs": [
    {
     "name": "stdout",
     "output_type": "stream",
     "text": [
      "r$dzmg$gl$yvxlnv$z$wzgz$hxrvmgrhg.\n"
     ]
    }
   ],
   "source": [
    "def encrypt_message(message):\n",
    "    encrypted_message = \"\"\n",
    "    for char in message.lower():\n",
    "        if char == \" \":\n",
    "            encrypted_message += \"$\"\n",
    "        elif char.isalpha():\n",
    "            encrypted_message += chr(219 - ord(char))\n",
    "        else:\n",
    "            encrypted_message += char\n",
    "    return encrypted_message\n",
    "\n",
    "input_sentence = \"I want to become a Data Scientist.\"\n",
    "encrypted_sentence = encrypt_message(input_sentence)\n",
    "print(encrypted_sentence)\n"
   ]
  },
  {
   "cell_type": "code",
   "execution_count": null,
   "id": "4cc9f179-02b1-4549-9490-4ddef1ed088a",
   "metadata": {},
   "outputs": [],
   "source": []
  }
 ],
 "metadata": {
  "kernelspec": {
   "display_name": "Python 3 (ipykernel)",
   "language": "python",
   "name": "python3"
  },
  "language_info": {
   "codemirror_mode": {
    "name": "ipython",
    "version": 3
   },
   "file_extension": ".py",
   "mimetype": "text/x-python",
   "name": "python",
   "nbconvert_exporter": "python",
   "pygments_lexer": "ipython3",
   "version": "3.10.8"
  }
 },
 "nbformat": 4,
 "nbformat_minor": 5
}
