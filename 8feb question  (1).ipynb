{
 "cells": [
  {
   "cell_type": "markdown",
   "id": "e789a614-acc7-40e0-a91b-2fc29f11dd12",
   "metadata": {},
   "source": [
    "Q1. What is Abstraction in OOps? Explain with an example.\n",
    "Abstraction is one of the fundamental principles of object-oriented programming (OOP) that focuses on hiding the internal implementation details of an object and exposing only the essential features and functionalities to the outside world. It allows the creation of abstract data types (classes) that provide a clear and simplified interface for interacting with the objects.\n",
    "\n"
   ]
  },
  {
   "cell_type": "code",
   "execution_count": 3,
   "id": "d8ad22ee-5a5a-4024-8b94-16da56965302",
   "metadata": {},
   "outputs": [
    {
     "name": "stdout",
     "output_type": "stream",
     "text": [
      "24\n",
      "20\n",
      "78.5\n",
      "31.400000000000002\n"
     ]
    }
   ],
   "source": [
    "from abc import ABC, abstractmethod\n",
    "\n",
    "class Shape(ABC):\n",
    "    @abstractmethod\n",
    "    def area(self):\n",
    "        pass\n",
    "\n",
    "    @abstractmethod\n",
    "    def perimeter(self):\n",
    "        pass\n",
    "\n",
    "class Rectangle(Shape):\n",
    "    def __init__(self, length, width):\n",
    "        self.length = length\n",
    "        self.width = width\n",
    "\n",
    "    def area(self):\n",
    "        return self.length * self.width\n",
    "\n",
    "    def perimeter(self):\n",
    "        return 2 * (self.length + self.width)\n",
    "\n",
    "class Circle(Shape):\n",
    "    def __init__(self, radius):\n",
    "        self.radius = radius\n",
    "\n",
    "    def area(self):\n",
    "        return 3.14 * self.radius * self.radius\n",
    "\n",
    "    def perimeter(self):\n",
    "        return 2 * 3.14 * self.radius\n",
    "\n",
    "rectangle = Rectangle(4, 6)\n",
    "print(rectangle.area())  \n",
    "print(rectangle.perimeter())\n",
    "\n",
    "circle = Circle(5)\n",
    "print(circle.area())  \n",
    "print(circle.perimeter())  \n"
   ]
  },
  {
   "cell_type": "markdown",
   "id": "13cfa454-baaa-4e08-8fd8-3402b3fddec5",
   "metadata": {},
   "source": [
    "Differentiate between Abstraction and Encapsulation. Explain with an example.\n",
    "\n",
    "Abstraction focuses on hiding the internal implementation details of an object and exposing only the essential features and functionalities to the outside world. It allows the creation of abstract data types and defines the interface for interacting with objects. Abstraction is achieved through the use of abstract classes and interfaces.\n",
    "\n",
    "Encapsulation, on the other hand, is about bundling the data (attributes) and methods (functions) together into a single unit called a class. It provides the mechanism to restrict direct access to the data, and instead, access to the data is controlled through methods. Encapsulation ensures data integrity and prevents unauthorized access or modification of the object's internal state."
   ]
  },
  {
   "cell_type": "code",
   "execution_count": 5,
   "id": "f01266dd-9f0b-4857-b427-dfd6a16e956f",
   "metadata": {},
   "outputs": [],
   "source": [
    "class BankAccount:\n",
    "    def __init__(self, account_number, balance):\n",
    "        self.account_number = account_number\n",
    "        self.balance = balance\n",
    "\n",
    "    def deposit(self, amount):\n",
    "        self.balance += amount\n",
    "\n",
    "    def withdraw(self, amount):\n",
    "        if self.balance >= amount:\n",
    "            self.balance -= amount\n",
    "        else:\n",
    "            print(\"Insufficient funds!\")\n",
    "\n",
    "    def get_balance(self):\n",
    "        return self.balance\n"
   ]
  },
  {
   "cell_type": "code",
   "execution_count": null,
   "id": "856f54ca-d370-446a-9be0-3dfca8cd48f0",
   "metadata": {},
   "outputs": [],
   "source": [
    "from abc import ABC, abstractmethod\n",
    "\n",
    "class BankAccount(ABC):\n",
    "    def __init__(self, account_number, balance):\n",
    "        self.account_number = account_number\n",
    "        self.balance = balance\n",
    "\n",
    "    @abstractmethod\n",
    "    def calculate_interest(self):\n",
    "        pass\n",
    "\n",
    "class SavingsAccount(BankAccount):\n",
    "    def __init__(self, account_number, balance):\n",
    "        super().__init__(account_number, balance)\n",
    "\n",
    "    def calculate_interest(self):\n",
    "        return self.balance * 0.05\n"
   ]
  },
  {
   "cell_type": "markdown",
   "id": "aad46c90-3f2c-4b1f-8c4a-43929ab8aad2",
   "metadata": {},
   "source": [
    "Q3. What is abc module in python? Why is it used?\n",
    "\n",
    "The abc module in Python stands for \"Abstract Base Classes.\" It provides infrastructure for defining abstract base classes, which are classes that cannot be instantiated themselves but serve as a basis for defining concrete subclasses.\n",
    "\n",
    "The abc module is used to implement abstraction and to define interfaces in Python. It allows you to define abstract methods that must be implemented by concrete subclasses. Abstract base classes are useful when you want to define a common interface that multiple classes should adhere to, ensuring consistent behavior and providing a clear contract for interacting with objects.\n",
    "\n",
    "Here are some key features and uses of the abc module:\n",
    "\n",
    "Defining Abstract Base Classes (ABCs): The abc module provides the ABC class and the abstractmethod decorator, which are used to define abstract base classes. An abstract base class is created by subclassing ABC and using the abstractmethod decorator on the methods that must be implemented by the subclasses.\n",
    "\n",
    "Enforcing Method Implementation: By defining abstract methods in an abstract base class, you can ensure that any concrete subclass that inherits from the ABC must implement those methods. If a subclass fails to implement any abstract method, a TypeError will be raised.\n",
    "\n",
    "Polymorphism and Interface Definition: Abstract base classes provide a way to define common interfaces that multiple classes can adhere to. This promotes polymorphism, where different objects can be treated as instances of the abstract base class, enabling code reuse and modular design.\n",
    "\n",
    "Type Checking: The abc module can be used for type checking. By using ABCs as type hints in function signatures or variable annotations, you can indicate that a parameter or variable should be an instance of a particular abstract base class or its subclass. This helps in maintaining type consistency and catching type-related errors."
   ]
  },
  {
   "cell_type": "code",
   "execution_count": 6,
   "id": "a6120e96-0c71-4677-8594-7fa7a8c2b6ce",
   "metadata": {},
   "outputs": [
    {
     "name": "stdout",
     "output_type": "stream",
     "text": [
      "Woof!\n",
      "Meow!\n"
     ]
    },
    {
     "ename": "TypeError",
     "evalue": "Can't instantiate abstract class Animal with abstract method make_sound",
     "output_type": "error",
     "traceback": [
      "\u001b[0;31m---------------------------------------------------------------------------\u001b[0m",
      "\u001b[0;31mTypeError\u001b[0m                                 Traceback (most recent call last)",
      "Cell \u001b[0;32mIn[6], line 21\u001b[0m\n\u001b[1;32m     18\u001b[0m cat \u001b[38;5;241m=\u001b[39m Cat()\n\u001b[1;32m     19\u001b[0m cat\u001b[38;5;241m.\u001b[39mmake_sound() \n\u001b[0;32m---> 21\u001b[0m animal \u001b[38;5;241m=\u001b[39m \u001b[43mAnimal\u001b[49m\u001b[43m(\u001b[49m\u001b[43m)\u001b[49m  \n",
      "\u001b[0;31mTypeError\u001b[0m: Can't instantiate abstract class Animal with abstract method make_sound"
     ]
    }
   ],
   "source": [
    "from abc import ABC, abstractmethod\n",
    "\n",
    "class Animal(ABC):\n",
    "    @abstractmethod\n",
    "    def make_sound(self):\n",
    "        pass\n",
    "\n",
    "class Dog(Animal):\n",
    "    def make_sound(self):\n",
    "        print(\"Woof!\")\n",
    "\n",
    "class Cat(Animal):\n",
    "    def make_sound(self):\n",
    "        print(\"Meow!\")\n",
    "\n",
    "dog = Dog()\n",
    "dog.make_sound()  \n",
    "cat = Cat()\n",
    "cat.make_sound() \n",
    "\n",
    "animal = Animal()  \n"
   ]
  },
  {
   "cell_type": "markdown",
   "id": "b514032b-54b4-4bfb-9c2b-a7b4f5b2decf",
   "metadata": {},
   "source": [
    "Q4. How can we achieve data abstraction?\n",
    "\n",
    "Classes and Objects: By defining classes and creating objects, you can encapsulate data and behavior together. The attributes of a class represent the data, and the methods represent the behavior or operations that can be performed on that data. By controlling access to the attributes through methods, you can hide the internal details and provide a simplified interface for interacting with the data.\n",
    "\n",
    "Access Modifiers: Python provides access modifiers such as public, protected, and private, although the convention is to use naming conventions to indicate the intended visibility. By using naming conventions like a single underscore (_) or double underscore (__) prefix, you can indicate the intended visibility of attributes and methods. This helps in abstracting the implementation details and exposing only the necessary information to the outside world.\n",
    "\n",
    "Getters and Setters: By defining getter and setter methods, you can control the access and modification of attributes. Getter methods provide read-only access to the attributes, allowing the retrieval of their values. Setter methods, on the other hand, provide a controlled way to modify the attribute values, allowing you to enforce any required validation or logic.\n",
    "\n",
    "Properties: Python's property decorator allows you to define special methods, known as getter, setter, and deleter methods, which can be used to define properties on a class. Properties abstract the access and modification of attributes, providing a natural and convenient way to interact with the data.\n",
    "\n",
    "Here's an example that demonstrates data abstraction using classes and properties:"
   ]
  },
  {
   "cell_type": "code",
   "execution_count": 7,
   "id": "9b928e54-1a21-442e-b96e-4e85a389edaf",
   "metadata": {},
   "outputs": [
    {
     "name": "stdout",
     "output_type": "stream",
     "text": [
      "1234567890\n",
      "1000\n",
      "1500\n",
      "800\n",
      "2000\n"
     ]
    }
   ],
   "source": [
    "class BankAccount:\n",
    "    def __init__(self, account_number, balance):\n",
    "        self._account_number = account_number\n",
    "        self._balance = balance\n",
    "\n",
    "    @property\n",
    "    def account_number(self):\n",
    "        return self._account_number\n",
    "\n",
    "    @property\n",
    "    def balance(self):\n",
    "        return self._balance\n",
    "\n",
    "    @balance.setter\n",
    "    def balance(self, new_balance):\n",
    "        if new_balance >= 0:\n",
    "            self._balance = new_balance\n",
    "        else:\n",
    "            raise ValueError(\"Balance cannot be negative.\")\n",
    "\n",
    "    def deposit(self, amount):\n",
    "        self._balance += amount\n",
    "\n",
    "    def withdraw(self, amount):\n",
    "        if self._balance >= amount:\n",
    "            self._balance -= amount\n",
    "        else:\n",
    "            raise ValueError(\"Insufficient funds.\")\n",
    "\n",
    "# Usage\n",
    "account = BankAccount(\"1234567890\", 1000)\n",
    "\n",
    "print(account.account_number)  \n",
    "print(account.balance)  \n",
    "\n",
    "account.deposit(500)\n",
    "print(account.balance)  \n",
    "\n",
    "account.withdraw(700)\n",
    "print(account.balance) \n",
    "account.balance = 2000\n",
    "print(account.balance)  "
   ]
  },
  {
   "cell_type": "markdown",
   "id": "f1a48a78-b1f2-4387-8a7a-dc3e1c55d080",
   "metadata": {},
   "source": [
    "Q5. Can we create an instance of an abstract class? \n",
    "Explain your answer.\n",
    "\n",
    "No, we cannot create an instance of an abstract class in Python. Abstract classes are incomplete classes that are meant to be subclassed and provide a common interface or blueprint for the subclasses.\n",
    "\n",
    "An abstract class is created by subclassing the built-in ABC class from the abc module in Python and using the abstractmethod decorator on one or more methods that must be implemented by the subclasses. An abstract method is a method declaration without an implementation.\n",
    "\n",
    "Attempting to create an instance of an abstract class will result in a TypeError being raised. This is because an abstract class itself is incomplete and does not provide a complete implementation for the abstract methods. It is the responsibility of the concrete subclasses to implement these abstract methods and provide the necessary functionality.\n",
    "\n",
    "Here's an example that demonstrates the inability to instantiate an abstract class:\n"
   ]
  },
  {
   "cell_type": "code",
   "execution_count": 8,
   "id": "8662809c-de40-40a3-abaf-d0ad8cf2a110",
   "metadata": {},
   "outputs": [
    {
     "ename": "TypeError",
     "evalue": "Can't instantiate abstract class AbstractClass with abstract method abstract_method",
     "output_type": "error",
     "traceback": [
      "\u001b[0;31m---------------------------------------------------------------------------\u001b[0m",
      "\u001b[0;31mTypeError\u001b[0m                                 Traceback (most recent call last)",
      "Cell \u001b[0;32mIn[8], line 9\u001b[0m\n\u001b[1;32m      6\u001b[0m         \u001b[38;5;28;01mpass\u001b[39;00m\n\u001b[1;32m      8\u001b[0m \u001b[38;5;66;03m# Trying to create an instance of an abstract class\u001b[39;00m\n\u001b[0;32m----> 9\u001b[0m obj \u001b[38;5;241m=\u001b[39m \u001b[43mAbstractClass\u001b[49m\u001b[43m(\u001b[49m\u001b[43m)\u001b[49m\n\u001b[1;32m     10\u001b[0m \u001b[38;5;66;03m# Raises TypeError: Can't instantiate abstract class AbstractClass with abstract methods abstract_method\u001b[39;00m\n",
      "\u001b[0;31mTypeError\u001b[0m: Can't instantiate abstract class AbstractClass with abstract method abstract_method"
     ]
    }
   ],
   "source": [
    "from abc import ABC, abstractmethod\n",
    "\n",
    "class AbstractClass(ABC):\n",
    "    @abstractmethod\n",
    "    def abstract_method(self):\n",
    "        pass\n",
    "\n",
    "# Trying to create an instance of an abstract class\n",
    "obj = AbstractClass()\n",
    "# Raises TypeError: Can't instantiate abstract class AbstractClass with abstract methods abstract_method\n"
   ]
  }
 ],
 "metadata": {
  "kernelspec": {
   "display_name": "Python 3 (ipykernel)",
   "language": "python",
   "name": "python3"
  },
  "language_info": {
   "codemirror_mode": {
    "name": "ipython",
    "version": 3
   },
   "file_extension": ".py",
   "mimetype": "text/x-python",
   "name": "python",
   "nbconvert_exporter": "python",
   "pygments_lexer": "ipython3",
   "version": "3.10.8"
  }
 },
 "nbformat": 4,
 "nbformat_minor": 5
}
