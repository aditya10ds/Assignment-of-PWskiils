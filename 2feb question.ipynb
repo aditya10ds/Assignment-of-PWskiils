{
 "cells": [
  {
   "cell_type": "code",
   "execution_count": 1,
   "id": "c1b7efa4-1397-4b25-a8ae-27804a2544e2",
   "metadata": {},
   "outputs": [],
   "source": [
    "# Q1. Explain with an example each when to use a for loop and a while loop.\n",
    "# :-  \"for\" loop can be use when we know the  sequence of elements for a fixed number of times.\n",
    "# :-  \"while\" loop can be use when we  don't know the  sequence of elements for a fixed number \n",
    "#      of times and it  will run until condition become \"false\""
   ]
  },
  {
   "cell_type": "code",
   "execution_count": 2,
   "id": "ce1d4e63-0741-4dd1-a8f1-bee585df736b",
   "metadata": {},
   "outputs": [
    {
     "name": "stdout",
     "output_type": "stream",
     "text": [
      "0\n",
      "1\n",
      "2\n",
      "3\n",
      "4\n"
     ]
    }
   ],
   "source": [
    "# Example \"for\" loop \n",
    "for i in range (5):\n",
    "    print(i)"
   ]
  },
  {
   "cell_type": "code",
   "execution_count": 4,
   "id": "63196a22-cb05-490f-8102-fe076593d1cf",
   "metadata": {},
   "outputs": [
    {
     "name": "stdout",
     "output_type": "stream",
     "text": [
      "1\n",
      "2\n",
      "3\n",
      "4\n",
      "5\n",
      "6\n",
      "7\n",
      "8\n",
      "9\n"
     ]
    }
   ],
   "source": [
    "# Example \"while\" loop \n",
    "a = 1\n",
    "while a < 10 : \n",
    "    print(a)\n",
    "    a = a+1"
   ]
  },
  {
   "cell_type": "code",
   "execution_count": 5,
   "id": "f1a2c107-84c6-4c16-bc98-54fadc36e39e",
   "metadata": {},
   "outputs": [],
   "source": [
    "# Q2. Write a python program to print the sum and product of \n",
    "#     the first 10 natural numbers using for and while loop."
   ]
  },
  {
   "cell_type": "code",
   "execution_count": 15,
   "id": "dab31a73-7a00-4c81-a558-cbcaa8f5cab9",
   "metadata": {},
   "outputs": [
    {
     "data": {
      "text/plain": [
       "55"
      ]
     },
     "execution_count": 15,
     "metadata": {},
     "output_type": "execute_result"
    }
   ],
   "source": [
    "# \"for loop\"\n",
    "result = 0 \n",
    "for i in range(1,11) :\n",
    "    result = result + i\n",
    "result    "
   ]
  },
  {
   "cell_type": "code",
   "execution_count": 17,
   "id": "a39a1a13-58dc-4df9-bfc3-52ad0fd6041a",
   "metadata": {},
   "outputs": [
    {
     "data": {
      "text/plain": [
       "3628800"
      ]
     },
     "execution_count": 17,
     "metadata": {},
     "output_type": "execute_result"
    }
   ],
   "source": [
    "result = 1\n",
    "for i in range(1,11) :\n",
    "    result = result * i\n",
    "result \n",
    "    "
   ]
  },
  {
   "cell_type": "code",
   "execution_count": 7,
   "id": "f8088433-00be-4075-9baf-8651d9caff8b",
   "metadata": {},
   "outputs": [
    {
     "name": "stdout",
     "output_type": "stream",
     "text": [
      "55\n"
     ]
    }
   ],
   "source": [
    "# \"while loop\"\n",
    "result = 0 \n",
    "i = 1\n",
    "while i <= 10 :\n",
    "    result = result + i\n",
    "    i= i +1 \n",
    "print(result)\n"
   ]
  },
  {
   "cell_type": "code",
   "execution_count": 9,
   "id": "72bbd452-8028-4d4a-9606-201ed0fa3194",
   "metadata": {},
   "outputs": [
    {
     "name": "stdout",
     "output_type": "stream",
     "text": [
      "3628800\n"
     ]
    }
   ],
   "source": [
    "# \"while loop\"\n",
    "result = 1\n",
    "i = 1\n",
    "while i <= 10 :\n",
    "    result = result * i\n",
    "    i= i +1 \n",
    "print(result)"
   ]
  },
  {
   "cell_type": "code",
   "execution_count": 10,
   "id": "9e794899-377f-4eac-9599-b771d15e6370",
   "metadata": {},
   "outputs": [],
   "source": [
    "# Q3. Create a python program to compute the electricity bill for a household.\n",
    "# The per-unit charges in rupees are as follows:- \n",
    "# For the first 100 units, the user will be charged Rs. 4.5 per unit,\n",
    "# for the next 100 units, the user will be charged Rs. 6 per unit,\n",
    " # and for the next 100 units, the user will be charged Rs. 10 per unit,\n",
    " # After 300 units and above the user will be charged Rs. 20 per unit.\n",
    "# You are required to take the units of electricity consumed in a month from the user as input.\n",
    "# Your program must pass this test case: \n",
    "# when the unit of electricity consumed by the user in a month is\n",
    "#  310, the total electricity bill should be 2250.\n",
    "#   0 <= 100 = 4.5rs \n",
    "#  0 <= 200 = 6 rs  \n",
    "#  0 <= 300 = 10rs \n",
    "# 300 < above = 20rs "
   ]
  },
  {
   "cell_type": "code",
   "execution_count": 25,
   "id": "2ca03e1a-43c5-4ace-bfa2-3adb55a5f996",
   "metadata": {},
   "outputs": [
    {
     "name": "stdin",
     "output_type": "stream",
     "text": [
      "Enter the number of units consumed in a month :  310\n"
     ]
    },
    {
     "name": "stdout",
     "output_type": "stream",
     "text": [
      "total amount of bill 2250.0\n"
     ]
    }
   ],
   "source": [
    "units = int(input(\"Enter the number of units consumed in a month : \"))\n",
    "if units <=100 :\n",
    "     print(f\"total amount of bill {units* 4.5 }\")\n",
    "elif units <= 200 :\n",
    "     print(f\"total amount of bill {100 * 4.5 + ((units - 100) * 6)}\")\n",
    "elif units <= 300 :\n",
    "     print(f\"total amount of bill {100 * 4.5 + 100 * 6 + ((units - 200) * 10)}\")\n",
    "else: \n",
    "    units >300 \n",
    "    print(f\"total amount of bill {100 * 4.5 + 100 * 6 + 100 * 10 + ((units - 300) * 20) }\")\n",
    "       "
   ]
  },
  {
   "cell_type": "code",
   "execution_count": 26,
   "id": "35ef351e-f9dc-4f62-82df-3e422b577316",
   "metadata": {},
   "outputs": [],
   "source": [
    "# Q4. Create a list of numbers from 1 to 100. Use for loop and while loop \n",
    "# to calculate the cube of each number and if the cube of that number \n",
    "# is divisible by 4 or 5 then append that number in a list and print that list."
   ]
  },
  {
   "cell_type": "code",
   "execution_count": 27,
   "id": "7ae9ea94-a028-490f-a892-d62cadde9696",
   "metadata": {},
   "outputs": [],
   "source": [
    "l = range(1,101)"
   ]
  },
  {
   "cell_type": "code",
   "execution_count": 32,
   "id": "e62134a1-d014-451f-964a-df6dc81cdd65",
   "metadata": {},
   "outputs": [
    {
     "data": {
      "text/plain": [
       "[2,\n",
       " 4,\n",
       " 5,\n",
       " 6,\n",
       " 8,\n",
       " 10,\n",
       " 12,\n",
       " 14,\n",
       " 15,\n",
       " 16,\n",
       " 18,\n",
       " 20,\n",
       " 22,\n",
       " 24,\n",
       " 25,\n",
       " 26,\n",
       " 28,\n",
       " 30,\n",
       " 32,\n",
       " 34,\n",
       " 35,\n",
       " 36,\n",
       " 38,\n",
       " 40,\n",
       " 42,\n",
       " 44,\n",
       " 45,\n",
       " 46,\n",
       " 48,\n",
       " 50,\n",
       " 52,\n",
       " 54,\n",
       " 55,\n",
       " 56,\n",
       " 58,\n",
       " 60,\n",
       " 62,\n",
       " 64,\n",
       " 65,\n",
       " 66,\n",
       " 68,\n",
       " 70,\n",
       " 72,\n",
       " 74,\n",
       " 75,\n",
       " 76,\n",
       " 78,\n",
       " 80,\n",
       " 82,\n",
       " 84,\n",
       " 85,\n",
       " 86,\n",
       " 88,\n",
       " 90,\n",
       " 92,\n",
       " 94,\n",
       " 95,\n",
       " 96,\n",
       " 98,\n",
       " 100]"
      ]
     },
     "execution_count": 32,
     "metadata": {},
     "output_type": "execute_result"
    }
   ],
   "source": [
    "#using for loop \n",
    "result_list = []\n",
    "for i in range (1,101) :\n",
    "    cube = i**3\n",
    "    if cube % 4 == 0 or cube % 5 == 0:\n",
    "        result_list.append(i)\n",
    "result_list        "
   ]
  },
  {
   "cell_type": "code",
   "execution_count": 33,
   "id": "e290e437-e022-45df-925c-e26f3d95b663",
   "metadata": {},
   "outputs": [
    {
     "data": {
      "text/plain": [
       "[2,\n",
       " 4,\n",
       " 5,\n",
       " 6,\n",
       " 8,\n",
       " 10,\n",
       " 12,\n",
       " 14,\n",
       " 15,\n",
       " 16,\n",
       " 18,\n",
       " 20,\n",
       " 22,\n",
       " 24,\n",
       " 25,\n",
       " 26,\n",
       " 28,\n",
       " 30,\n",
       " 32,\n",
       " 34,\n",
       " 35,\n",
       " 36,\n",
       " 38,\n",
       " 40,\n",
       " 42,\n",
       " 44,\n",
       " 45,\n",
       " 46,\n",
       " 48,\n",
       " 50,\n",
       " 52,\n",
       " 54,\n",
       " 55,\n",
       " 56,\n",
       " 58,\n",
       " 60,\n",
       " 62,\n",
       " 64,\n",
       " 65,\n",
       " 66,\n",
       " 68,\n",
       " 70,\n",
       " 72,\n",
       " 74,\n",
       " 75,\n",
       " 76,\n",
       " 78,\n",
       " 80,\n",
       " 82,\n",
       " 84,\n",
       " 85,\n",
       " 86,\n",
       " 88,\n",
       " 90,\n",
       " 92,\n",
       " 94,\n",
       " 95,\n",
       " 96,\n",
       " 98,\n",
       " 100]"
      ]
     },
     "execution_count": 33,
     "metadata": {},
     "output_type": "execute_result"
    }
   ],
   "source": [
    "result_list = []\n",
    "i = 1\n",
    "while i <= 100:\n",
    "    cube = i ** 3\n",
    "    if cube % 4 == 0 or cube % 5 == 0:\n",
    "        result_list.append(i)\n",
    "    i += 1\n",
    "result_list        \n"
   ]
  },
  {
   "cell_type": "code",
   "execution_count": 34,
   "id": "fc2ae334-f9aa-42d2-9a1c-ddb7fe845ed2",
   "metadata": {},
   "outputs": [],
   "source": [
    "# Q5. Write a program to filter count vowels in the below-given string.\n",
    "# string = \"I want to become a data scientist\""
   ]
  },
  {
   "cell_type": "code",
   "execution_count": 47,
   "id": "1440cc59-d618-4988-84a7-2cab8c30cffc",
   "metadata": {},
   "outputs": [
    {
     "name": "stdout",
     "output_type": "stream",
     "text": [
      "The number of vowels in the string is: 12\n"
     ]
    }
   ],
   "source": [
    "string = \"I want to become a data scientist\"\n",
    "vowels = \"aeiouAEIOU\"\n",
    "count = 0\n",
    "for char in string :\n",
    "    if char in vowels:\n",
    "        count = count +1 \n",
    "print(\"The number of vowels in the string is:\", count)"
   ]
  },
  {
   "cell_type": "code",
   "execution_count": null,
   "id": "9b996051-167b-4057-8650-62d5475a54f2",
   "metadata": {},
   "outputs": [],
   "source": []
  }
 ],
 "metadata": {
  "kernelspec": {
   "display_name": "Python 3 (ipykernel)",
   "language": "python",
   "name": "python3"
  },
  "language_info": {
   "codemirror_mode": {
    "name": "ipython",
    "version": 3
   },
   "file_extension": ".py",
   "mimetype": "text/x-python",
   "name": "python",
   "nbconvert_exporter": "python",
   "pygments_lexer": "ipython3",
   "version": "3.10.8"
  }
 },
 "nbformat": 4,
 "nbformat_minor": 5
}
