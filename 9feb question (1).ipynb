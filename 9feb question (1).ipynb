{
 "cells": [
  {
   "cell_type": "markdown",
   "id": "a4882db4-351a-4727-92d6-90668d581420",
   "metadata": {},
   "source": [
    "Q1, Create a vehicle class with an init method having instance variables as name_of_vehicle, max_speed\n",
    "and average_of_vehicle.\n",
    "\n",
    "Q2. Create a child class car from the vehicle class created in Que 1, which will inherit the vehicle class.\n",
    "Create a method named seating_capacity which takes capacity as an argument and returns the name of\n",
    "the vehicle and its seating capacity.\n",
    "\n",
    "Q3. What is multiple inheritance? Write a python code to demonstrate multiple inheritance.\n",
    "\n",
    "Q4. What are getter and setter in python? Create a class and create a getter and a setter method in this\n",
    "class.\n",
    "\n",
    "Q5.What is method overriding in python? Write a python code to demonstrate method overriding."
   ]
  },
  {
   "cell_type": "markdown",
   "id": "4a04f3f0-5826-42eb-b77a-a007b85d1b8d",
   "metadata": {},
   "source": [
    "Q1, Create a vehicle class with an init method having instance variables as name_of_vehicle, max_speed and average_of_vehicle."
   ]
  },
  {
   "cell_type": "code",
   "execution_count": 12,
   "id": "453fd78e-93b4-4e9f-b6fd-8003352e840b",
   "metadata": {},
   "outputs": [],
   "source": [
    "class vehicle :\n",
    "    def __init__ (self , name_of_vehicle , max_speed , average_speed ) :\n",
    "        self.name_of_vehicle = name_of_vehicle\n",
    "        self.max_speed = max_speed\n",
    "        self.average_speed = average_speed"
   ]
  },
  {
   "cell_type": "code",
   "execution_count": 13,
   "id": "a6d4286e-688d-4a02-88e8-d756284e25ca",
   "metadata": {},
   "outputs": [],
   "source": [
    "car = vehicle(\"bugati\", 300 , 100 )"
   ]
  },
  {
   "cell_type": "code",
   "execution_count": 14,
   "id": "cfbe800c-40ce-40bf-8c37-1aa172d6a7a6",
   "metadata": {},
   "outputs": [
    {
     "data": {
      "text/plain": [
       "'bugati'"
      ]
     },
     "execution_count": 14,
     "metadata": {},
     "output_type": "execute_result"
    }
   ],
   "source": [
    "car.name_of_vehicle"
   ]
  },
  {
   "cell_type": "code",
   "execution_count": 15,
   "id": "f3f89ff5-c805-4ac9-899f-f68674d66562",
   "metadata": {},
   "outputs": [
    {
     "data": {
      "text/plain": [
       "300"
      ]
     },
     "execution_count": 15,
     "metadata": {},
     "output_type": "execute_result"
    }
   ],
   "source": [
    "car.max_speed"
   ]
  },
  {
   "cell_type": "code",
   "execution_count": 16,
   "id": "5934e97b-7725-40a8-bd6f-2d54c4c0a5f9",
   "metadata": {},
   "outputs": [
    {
     "data": {
      "text/plain": [
       "100"
      ]
     },
     "execution_count": 16,
     "metadata": {},
     "output_type": "execute_result"
    }
   ],
   "source": [
    "car.average_speed"
   ]
  },
  {
   "cell_type": "markdown",
   "id": "3256402e-95ee-4500-b325-936d84ad9bab",
   "metadata": {},
   "source": [
    "Q2. Create a child class car from the vehicle class created in Que 1, which will inherit the vehicle class.\n",
    "Create a method named seating_capacity which takes capacity as an argument and returns the name of the vehicle and its seating capacity."
   ]
  },
  {
   "cell_type": "code",
   "execution_count": 23,
   "id": "351d6016-1b9b-42f8-8e41-47765d9a97d5",
   "metadata": {},
   "outputs": [],
   "source": [
    "class Car (vehicle) :\n",
    "    \n",
    "    def __init__(self , name_of_vehicle , max_speed , average_speed ) :\n",
    "        \n",
    "        super().__init__(name_of_vehicle, max_speed, average_speed) \n",
    "        \n",
    "    def seating_capacity(self, capacity):\n",
    "        return f\"{self.name_of_vehicle} - Seating Capacity: {capacity}\"    "
   ]
  },
  {
   "cell_type": "code",
   "execution_count": 26,
   "id": "1da64451-046b-457a-8e78-af16c1ba905d",
   "metadata": {},
   "outputs": [],
   "source": [
    "car = Car(\"bugati\", 300 , 100 )"
   ]
  },
  {
   "cell_type": "code",
   "execution_count": 28,
   "id": "fb3a6266-ec56-4d21-ba40-f9209dea7bc1",
   "metadata": {},
   "outputs": [
    {
     "data": {
      "text/plain": [
       "'bugati - Seating Capacity: 2'"
      ]
     },
     "execution_count": 28,
     "metadata": {},
     "output_type": "execute_result"
    }
   ],
   "source": [
    "car.seating_capacity(2)"
   ]
  },
  {
   "cell_type": "markdown",
   "id": "51f12a17-0cc3-4016-95c3-0e1229d5a57e",
   "metadata": {},
   "source": [
    "Q3. What is multiple inheritance? Write a python code to demonstrate multiple inheritance.\n",
    "Multiple inheritance is a feature in object-oriented programming where a class can inherit attributes and methods from more than one parent class. It allows a child class to inherit from multiple parent classes, thereby inheriting their properties and behaviors"
   ]
  },
  {
   "cell_type": "code",
   "execution_count": 31,
   "id": "da6704e9-af2a-4e9d-9c90-22643a2039e9",
   "metadata": {},
   "outputs": [],
   "source": [
    "class animal :\n",
    "    def __init__ (self,name):\n",
    "        self.name = name\n",
    "        \n",
    "    def eat(self):\n",
    "        print(f\"{self.name} is eating\")\n",
    "\n",
    "class flyable:\n",
    "    def fly(self):\n",
    "        print(f\"{self.name} is flying\")\n",
    "        \n",
    "class Bird (animal, flyable) :\n",
    "    def __init__(self , name):\n",
    "        super().__init__(name)\n",
    "        "
   ]
  },
  {
   "cell_type": "code",
   "execution_count": 32,
   "id": "e8271f6a-8ae7-4384-ba29-ca53c81c63ca",
   "metadata": {},
   "outputs": [],
   "source": [
    "bird = Bird(\"sparrow\")"
   ]
  },
  {
   "cell_type": "code",
   "execution_count": 33,
   "id": "48de989f-594a-4f02-aa52-77ebb698ccb4",
   "metadata": {},
   "outputs": [
    {
     "name": "stdout",
     "output_type": "stream",
     "text": [
      "sparrow is eating\n"
     ]
    }
   ],
   "source": [
    "bird.eat()"
   ]
  },
  {
   "cell_type": "code",
   "execution_count": 35,
   "id": "fcbeb5f3-1117-4507-b606-7e6f3b3a9fea",
   "metadata": {},
   "outputs": [
    {
     "name": "stdout",
     "output_type": "stream",
     "text": [
      "sparrow is flying\n"
     ]
    }
   ],
   "source": [
    "bird.fly()"
   ]
  },
  {
   "cell_type": "markdown",
   "id": "91c68965-5724-498d-ac4c-7baebc3b31ba",
   "metadata": {},
   "source": [
    "Q4. What are getter and setter in python? Create a class and create a getter and a setter method in this class."
   ]
  },
  {
   "cell_type": "markdown",
   "id": "58fcf29e-5d28-4a32-b106-0e1936729536",
   "metadata": {},
   "source": [
    "In Python, getter and setter methods are used to encapsulate the access and modification of class attributes. They provide a way to control how attribute values are accessed and updated, allowing for data validation and encapsulation.\n",
    "\n",
    "A getter method retrieves the value of an attribute, and a setter method sets the value of an attribute. By using getter and setter methods, you can enforce rules or perform additional logic when accessing or modifying attribute values."
   ]
  },
  {
   "cell_type": "code",
   "execution_count": 62,
   "id": "f1b00d89-9823-47b2-9548-7842422f3a11",
   "metadata": {},
   "outputs": [],
   "source": [
    "class Person :\n",
    "    \n",
    "    def __init__(self, name):\n",
    "        self._name = name\n",
    "        \n",
    "    def get_name(self):\n",
    "        return self._name\n",
    "    \n",
    "    def set_name(self , new_name):\n",
    "        self._name = new_name"
   ]
  },
  {
   "cell_type": "code",
   "execution_count": 63,
   "id": "2ab26200-c72d-4ac1-9eda-632d953d311f",
   "metadata": {},
   "outputs": [],
   "source": [
    "person = Person (\"AADI\")"
   ]
  },
  {
   "cell_type": "code",
   "execution_count": 64,
   "id": "3d4e8c86-8073-49e7-9d0b-9f9a71c5a24e",
   "metadata": {},
   "outputs": [
    {
     "data": {
      "text/plain": [
       "'AADI'"
      ]
     },
     "execution_count": 64,
     "metadata": {},
     "output_type": "execute_result"
    }
   ],
   "source": [
    "person.get_name()"
   ]
  },
  {
   "cell_type": "code",
   "execution_count": 65,
   "id": "a77d901a-9fbc-44ee-b6b6-5a1b0e72d795",
   "metadata": {},
   "outputs": [],
   "source": [
    "person.set_name(\"Aadi\")"
   ]
  },
  {
   "cell_type": "code",
   "execution_count": 67,
   "id": "d924fa8c-d55e-4687-b207-1bfea766cb2d",
   "metadata": {},
   "outputs": [
    {
     "data": {
      "text/plain": [
       "'Aadi'"
      ]
     },
     "execution_count": 67,
     "metadata": {},
     "output_type": "execute_result"
    }
   ],
   "source": [
    "person.get_name()"
   ]
  },
  {
   "cell_type": "markdown",
   "id": "1d142abc-645d-4791-bcee-e15dac86e5f8",
   "metadata": {},
   "source": [
    "Q5.What is method overriding in python? Write a python code to demonstrate method overriding.\n",
    "\n",
    "Method overriding is a concept in object-oriented programming where a subclass provides its own implementation of a method that is already defined in its parent class. It allows a subclass to modify or extend the behavior of inherited methods from the parent class.\n",
    "\n"
   ]
  },
  {
   "cell_type": "code",
   "execution_count": 72,
   "id": "ed049509-6c68-4412-b674-e2edc127ca77",
   "metadata": {},
   "outputs": [],
   "source": [
    "class Vehicle:\n",
    "    def __init__(self, name):\n",
    "        self.name = name\n",
    "\n",
    "    def start_engine(self):\n",
    "        print(f\"{self.name} - Engine started.\")\n",
    "\n",
    "\n",
    "class Car(Vehicle):\n",
    "    def __init__(self, name):\n",
    "        super().__init__(name)\n",
    "\n",
    "    def start_engine(self):\n",
    "        print(f\"{self.name} - Car engine started.\")"
   ]
  },
  {
   "cell_type": "code",
   "execution_count": 73,
   "id": "7001771d-f608-4d8a-967b-cdd83cebe560",
   "metadata": {},
   "outputs": [
    {
     "name": "stdout",
     "output_type": "stream",
     "text": [
      "Generic Vehicle - Engine started.\n"
     ]
    }
   ],
   "source": [
    "vehicle = Vehicle(\"Generic Vehicle\")\n",
    "vehicle.start_engine() "
   ]
  },
  {
   "cell_type": "code",
   "execution_count": 74,
   "id": "161b3b1d-7beb-445c-8cd4-4639f7d57bfa",
   "metadata": {},
   "outputs": [
    {
     "name": "stdout",
     "output_type": "stream",
     "text": [
      "Sedan Car - Car engine started.\n"
     ]
    }
   ],
   "source": [
    "car = Car(\"Sedan Car\")\n",
    "car.start_engine() "
   ]
  },
  {
   "cell_type": "code",
   "execution_count": null,
   "id": "7193130d-8210-4f58-8d3f-8ef138c3d1b5",
   "metadata": {},
   "outputs": [],
   "source": []
  }
 ],
 "metadata": {
  "kernelspec": {
   "display_name": "Python 3 (ipykernel)",
   "language": "python",
   "name": "python3"
  },
  "language_info": {
   "codemirror_mode": {
    "name": "ipython",
    "version": 3
   },
   "file_extension": ".py",
   "mimetype": "text/x-python",
   "name": "python",
   "nbconvert_exporter": "python",
   "pygments_lexer": "ipython3",
   "version": "3.10.8"
  }
 },
 "nbformat": 4,
 "nbformat_minor": 5
}
