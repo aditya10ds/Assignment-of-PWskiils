{
 "cells": [
  {
   "cell_type": "code",
   "execution_count": 1,
   "id": "90c1993b-e5f7-4904-8302-7ef47069b3d1",
   "metadata": {},
   "outputs": [],
   "source": [
    "# Q1. What are the characterstic of tuples? is it immutable?\n",
    "\n",
    "# :- Tuples can contain elements of different types,\n",
    "#     including other tuples, lists, and even objects.\n",
    "#      Tuples can be indexed and sliced like lists, using square \n",
    "#      brackets to access individual elements or ranges of elements.\n",
    "#      Tuples are immutable, meaning that once they are created, their contents cannot be modified. \n",
    "#       This is in contrast to lists, which can be modified by adding, removing, or changing elements."
   ]
  },
  {
   "cell_type": "code",
   "execution_count": null,
   "id": "6722b75b-bd33-4bbb-862f-d8d5686695c9",
   "metadata": {},
   "outputs": [],
   "source": [
    "# Q2. What are the two tuple methods in python? Give an example of each method. \n",
    "\n",
    "#  :-  tuples have only two in-built methods as compared to Lists.\n",
    "# :-   The two built-in methods in Python for tuples are count() and index().\n",
    "#     Here are their explanations and examples:\n",
    "#    count(): This method returns the number of occurrences of a specified element in a tuple.\n",
    "#     index(): This method returns the index of the first occurrence of a specified element in a tuple.\n",
    "# Example"
   ]
  },
  {
   "cell_type": "code",
   "execution_count": 4,
   "id": "f1321a1d-b288-40b0-a879-2f8eceed6ed7",
   "metadata": {},
   "outputs": [
    {
     "name": "stdout",
     "output_type": "stream",
     "text": [
      "3\n"
     ]
    }
   ],
   "source": [
    "t = (1, 2, 3, 2, 4, 5, 2)\n",
    "print(t.count(2))\n"
   ]
  },
  {
   "cell_type": "code",
   "execution_count": 5,
   "id": "d50e8851-b23d-4233-9ad2-7e21c5e68a2c",
   "metadata": {},
   "outputs": [
    {
     "name": "stdout",
     "output_type": "stream",
     "text": [
      "3\n"
     ]
    }
   ],
   "source": [
    "t = ('a', 'b', 'c', 'd', 'e', 'f')\n",
    "print(t.index('d')) \n"
   ]
  },
  {
   "cell_type": "code",
   "execution_count": null,
   "id": "a5221dd0-fa0f-460b-952a-5c5f901d7e3c",
   "metadata": {},
   "outputs": [],
   "source": [
    "# Q3.  Which collection datatypes in python do not allow duplicate items? \n",
    "#      Write a code using a set to remove duplicates from the given list.\n",
    "#      List = [1, 1, 1, 2, 1, 3, 1, 4, 2, 1, 2, 2, 2, 3, 2, 4, 3, 1, 3, 2, 3, 3, 3, 4, 4, 1, 4, 2, 4, 3, 4, 4]  \n",
    "# :-   Here is an example code using a set to remove duplicates from a given list:-\n"
   ]
  },
  {
   "cell_type": "code",
   "execution_count": 8,
   "id": "a0af8e92-df32-4747-81a4-f774f3f2768c",
   "metadata": {},
   "outputs": [
    {
     "name": "stdout",
     "output_type": "stream",
     "text": [
      "[1, 2, 3, 4]\n"
     ]
    }
   ],
   "source": [
    "List = [1, 1, 1, 2, 1, 3, 1, 4, 2, 1, 2, 2, 2, 3, 2, 4, 3, 1, 3, 2, 3, 3, 3, 4, 4, 1, 4, 2, 4, 3, 4, 4]\n",
    "my_set = set(List)\n",
    "List = list(my_set)\n",
    "print(new_list) \n"
   ]
  },
  {
   "cell_type": "code",
   "execution_count": null,
   "id": "8bcb11c7-a275-4271-897c-1a9fec13e532",
   "metadata": {},
   "outputs": [],
   "source": [
    "# Q4 Q4. Explain the difference between the union() and update() methods for a set. \n",
    "#        Give an example of each method.\n",
    "#    :-\n",
    "#        The union() and update() methods are both used to combine two sets in Python,\n",
    "#        but they differ in their implementation and return values.\n",
    "#        explanation and example of each method:\n"
   ]
  },
  {
   "cell_type": "code",
   "execution_count": 9,
   "id": "15d6fa18-22f0-49e5-ad7a-63b98d67389d",
   "metadata": {},
   "outputs": [
    {
     "name": "stdout",
     "output_type": "stream",
     "text": [
      "{1, 2, 3, 4, 5}\n"
     ]
    }
   ],
   "source": [
    "set1 = {1, 2, 3}\n",
    "set2 = {3, 4, 5}\n",
    "set3 = set1.union(set2)\n",
    "print(set3)\n"
   ]
  },
  {
   "cell_type": "code",
   "execution_count": 10,
   "id": "37bff43a-be1a-43d2-92d9-b9cedaa3f1b1",
   "metadata": {},
   "outputs": [
    {
     "name": "stdout",
     "output_type": "stream",
     "text": [
      "{1, 2, 3, 4, 5}\n"
     ]
    }
   ],
   "source": [
    "set1 = {1, 2, 3}\n",
    "set2 = {3, 4, 5}\n",
    "set1.update(set2)\n",
    "print(set1) \n"
   ]
  },
  {
   "cell_type": "code",
   "execution_count": null,
   "id": "7446c8d6-4ba4-48d7-a03c-02b7b113a1d7",
   "metadata": {},
   "outputs": [],
   "source": [
    " #   Q5. What is a dictionary? Give an example. Also, state whether a dictionary is ordered or unordered.\n",
    "    \n",
    "#:-   a dictionary is a collection of key-value pairs that allows us to store and\n",
    "#       retrieve data based on its unique key.\n",
    "#      Each key-value pair is separated by a colon, and individual pairs are separated by commas.\n",
    "#      Dictionaries are denoted by curly braces {}."
   ]
  },
  {
   "cell_type": "code",
   "execution_count": 26,
   "id": "e0b7dda1-526b-4917-9d51-65702b957607",
   "metadata": {},
   "outputs": [
    {
     "name": "stdout",
     "output_type": "stream",
     "text": [
      "{'name': 'Adi', 'age': 23, 'gender': 'Male'}\n"
     ]
    }
   ],
   "source": [
    "person = {\n",
    "  \"name\": \"Adi\",\n",
    "  \"age\": 23,\n",
    "  \"gender\": \"Male\",\n",
    " \n",
    "}\n",
    "print(person)"
   ]
  },
  {
   "cell_type": "code",
   "execution_count": 27,
   "id": "0a781113-c19c-4cde-88c7-0231be2954ac",
   "metadata": {},
   "outputs": [
    {
     "name": "stdout",
     "output_type": "stream",
     "text": [
      "Adi\n"
     ]
    }
   ],
   "source": [
    "name = person[\"name\"]\n",
    "print(name) \n"
   ]
  },
  {
   "cell_type": "code",
   "execution_count": null,
   "id": "3d0e4a56-8069-401d-a3f3-ea98878f3b25",
   "metadata": {},
   "outputs": [],
   "source": [
    "# Q6. Can we create a nested dictionary? If so, please give an example by creating a simple one-level\n",
    "#     nested dictionary.\n",
    "#:-   Yes, we can create a nested dictionary in Python. A nested dictionary is a dictionary that \n",
    "#     contains other dictionaries as values for its keys.\n",
    "#      Here's an example of a simple one-level nested dictionary:"
   ]
  },
  {
   "cell_type": "code",
   "execution_count": 23,
   "id": "c76a9136-74b0-4429-ae91-84e008a2b918",
   "metadata": {},
   "outputs": [],
   "source": [
    "person = {\n",
    "    \"name\": \"Aditya\",\"age\": 23,\n",
    "    \"address\": {\"street\": \"patna\", \"city\": \"New York\", }}\n"
   ]
  },
  {
   "cell_type": "code",
   "execution_count": 25,
   "id": "544d4162-4332-4ca0-8f5c-4b73097926c7",
   "metadata": {},
   "outputs": [
    {
     "name": "stdout",
     "output_type": "stream",
     "text": [
      "patna\n",
      "New York\n"
     ]
    }
   ],
   "source": [
    "print(person[\"address\"][\"street\"])  \n",
    "print(person[\"address\"][\"city\"])    \n",
    "    "
   ]
  },
  {
   "cell_type": "code",
   "execution_count": null,
   "id": "866ee0ed-f2da-4279-9e28-6b090ad14646",
   "metadata": {},
   "outputs": [],
   "source": [
    "#Q7. Using setdefault() method, create key named topics in the given dictionary and also add the value of\n",
    "#    the key as this list ['Python', 'Machine Learning’, 'Deep Learning']\n",
    "\n",
    "\n",
    "#    dict1 = {'language' : 'Python', 'course': 'Data Science Masters'}"
   ]
  },
  {
   "cell_type": "code",
   "execution_count": 28,
   "id": "ab66f517-bdd6-4472-bf63-4a2450239ced",
   "metadata": {},
   "outputs": [
    {
     "name": "stdout",
     "output_type": "stream",
     "text": [
      "{'language': 'Python', 'course': 'Data Science Masters', 'topics': ['Python', 'Machine Learning', 'Deep Learning']}\n"
     ]
    }
   ],
   "source": [
    "dict1 = {'language' : 'Python', 'course': 'Data Science Masters'}\n",
    "\n",
    "# using setdefault() to create a new key 'topics' with an empty list as its value\n",
    "dict1.setdefault('topics', [])\n",
    "\n",
    "# adding values to the 'topics' list\n",
    "dict1['topics'].extend(['Python', 'Machine Learning', 'Deep Learning'])\n",
    "\n",
    "print(dict1)\n"
   ]
  },
  {
   "cell_type": "code",
   "execution_count": null,
   "id": "b8924ad5-2a9f-45c2-8506-88e40152a5ef",
   "metadata": {},
   "outputs": [],
   "source": [
    "# Q8. What are the three view objects in dictionaries? Use the three in-built methods in python to display\n",
    "#      these three view objects for the given dictionary.\n",
    "\n",
    "\n",
    "# dict1 = {'Sport': 'Cricket' , 'Teams': ['India', 'Australia', 'England', \n",
    "#             'South Africa', 'Sri Lanka', 'New Zealand']}"
   ]
  },
  {
   "cell_type": "code",
   "execution_count": 34,
   "id": "d69e4a98-cc9a-4e27-82cc-0720ee0642d9",
   "metadata": {},
   "outputs": [
    {
     "ename": "SyntaxError",
     "evalue": "incomplete input (2560897818.py, line 2)",
     "output_type": "error",
     "traceback": [
      "\u001b[0;36m  Cell \u001b[0;32mIn[34], line 2\u001b[0;36m\u001b[0m\n\u001b[0;31m    'South Africa', 'Sri Lanka', 'New Zealand']\u001b[0m\n\u001b[0m                                               ^\u001b[0m\n\u001b[0;31mSyntaxError\u001b[0m\u001b[0;31m:\u001b[0m incomplete input\n"
     ]
    }
   ],
   "source": [
    "dict1 = {'Sport': 'Cricket' , 'Teams': ['India', 'Australia', 'England',\n",
    "                                        'South Africa', 'Sri Lanka', 'New Zealand']\n"
   ]
  },
  {
   "cell_type": "code",
   "execution_count": 35,
   "id": "3533f870-d247-41b2-b07b-f3291eac6905",
   "metadata": {},
   "outputs": [
    {
     "name": "stdout",
     "output_type": "stream",
     "text": [
      "Keys view object: dict_keys(['Sport', 'Teams'])\n"
     ]
    }
   ],
   "source": [
    "keys_view = dict1.keys()\n",
    "print(\"Keys view object:\", keys_view)"
   ]
  },
  {
   "cell_type": "code",
   "execution_count": 36,
   "id": "f6fb92d8-509a-4bca-b2ce-dc395dbdc23c",
   "metadata": {},
   "outputs": [
    {
     "name": "stdout",
     "output_type": "stream",
     "text": [
      "Values view object: dict_values(['Cricket', ['India', 'Australia', 'England', 'South Africa', 'Sri Lanka', 'New Zealand']])\n"
     ]
    }
   ],
   "source": [
    "values_view = dict1.values()\n",
    "print(\"Values view object:\", values_view)"
   ]
  },
  {
   "cell_type": "code",
   "execution_count": 37,
   "id": "ed89d2d0-392a-4726-a77f-a9e03aa16087",
   "metadata": {},
   "outputs": [
    {
     "name": "stdout",
     "output_type": "stream",
     "text": [
      "Items view object: dict_items([('Sport', 'Cricket'), ('Teams', ['India', 'Australia', 'England', 'South Africa', 'Sri Lanka', 'New Zealand'])])\n"
     ]
    }
   ],
   "source": [
    "\n",
    "items_view = dict1.items()\n",
    "print(\"Items view object:\", items_view)\n"
   ]
  },
  {
   "cell_type": "code",
   "execution_count": null,
   "id": "76e6bfdc-a7aa-4ed5-94f9-802fc738f456",
   "metadata": {},
   "outputs": [],
   "source": []
  }
 ],
 "metadata": {
  "kernelspec": {
   "display_name": "Python 3 (ipykernel)",
   "language": "python",
   "name": "python3"
  },
  "language_info": {
   "codemirror_mode": {
    "name": "ipython",
    "version": 3
   },
   "file_extension": ".py",
   "mimetype": "text/x-python",
   "name": "python",
   "nbconvert_exporter": "python",
   "pygments_lexer": "ipython3",
   "version": "3.10.8"
  }
 },
 "nbformat": 4,
 "nbformat_minor": 5
}
