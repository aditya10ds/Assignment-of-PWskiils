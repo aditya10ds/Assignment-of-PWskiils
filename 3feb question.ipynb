{
 "cells": [
  {
   "cell_type": "code",
   "execution_count": 1,
   "id": "6b48b271-f8bf-4985-bb75-148b3f4f5329",
   "metadata": {},
   "outputs": [],
   "source": [
    "# Q1 Which keyword is used to create a function? \n",
    "# Create a function to return a\n",
    "#  list of odd numbers in the range of 1 to 25."
   ]
  },
  {
   "cell_type": "code",
   "execution_count": 14,
   "id": "d5986c21-30bc-41c7-a62e-7c5b89268a1b",
   "metadata": {},
   "outputs": [
    {
     "name": "stdout",
     "output_type": "stream",
     "text": [
      "[1, 3, 5, 7, 9, 11, 13, 15, 17, 19, 21, 23, 25]\n"
     ]
    }
   ],
   "source": [
    "def odd_num():\n",
    "    odd_num =[]\n",
    "    for i in range(1,26) :\n",
    "        if i%2 !=0 :\n",
    "            odd_num.append(i)\n",
    "    return odd_num \n",
    "\n",
    "print(odd_num())"
   ]
  },
  {
   "cell_type": "code",
   "execution_count": 15,
   "id": "4991465d-3b2a-4615-b864-66cfdbf442a4",
   "metadata": {},
   "outputs": [],
   "source": [
    "# Q2. Why *args and **kwargs is used in some functions?\n",
    "# Create a function each for *args and **kwargs\n",
    "# to demonstrate their use."
   ]
  },
  {
   "cell_type": "code",
   "execution_count": 22,
   "id": "53671013-84f8-4247-ab8d-0365fd419ac1",
   "metadata": {},
   "outputs": [],
   "source": [
    "def myfucn(*args , a) :\n",
    "    return args ,a"
   ]
  },
  {
   "cell_type": "code",
   "execution_count": 23,
   "id": "47aea286-a043-42c0-bb6e-c2709f128e0a",
   "metadata": {},
   "outputs": [
    {
     "data": {
      "text/plain": [
       "((1, 2, 3, 45), 13234)"
      ]
     },
     "execution_count": 23,
     "metadata": {},
     "output_type": "execute_result"
    }
   ],
   "source": [
    "myfucn(1,2,3,45, a =13234)"
   ]
  },
  {
   "cell_type": "code",
   "execution_count": 24,
   "id": "480da604-38d9-458d-aa18-c74395bbe46b",
   "metadata": {},
   "outputs": [],
   "source": [
    "def myfucn1(**kwargs):\n",
    "    return kwargs "
   ]
  },
  {
   "cell_type": "code",
   "execution_count": 25,
   "id": "a48e7fdf-d96b-4051-940e-6965917bf560",
   "metadata": {},
   "outputs": [
    {
     "data": {
      "text/plain": [
       "{'a': [1, 2, 3, 4], 'b': 'sudh', 'c': 23.45}"
      ]
     },
     "execution_count": 25,
     "metadata": {},
     "output_type": "execute_result"
    }
   ],
   "source": [
    "myfucn1(a = [1,2,3,4] , b =\"sudh\" , c =23.45)"
   ]
  },
  {
   "cell_type": "code",
   "execution_count": 26,
   "id": "018d8e28-513c-44c6-8816-a25c999c579e",
   "metadata": {},
   "outputs": [],
   "source": [
    "# Q3. What is an iterator in python?\n",
    "# Name the method used to initialise the iterator object and the method\n",
    "# used for iteration. \n",
    "# Use these methods to print the first five elements of the \n",
    "# given list [2, 4, 6, 8, 10, 12, 14,16, 18, 20]."
   ]
  },
  {
   "cell_type": "code",
   "execution_count": 1,
   "id": "db8a62f6-2196-4de7-bf16-29aadab45634",
   "metadata": {},
   "outputs": [],
   "source": [
    "# In Python, an iterator is an object that allows us to traverse through a sequence, \n",
    "# such as a list or a string, one item at a time. It provides a way to access the \n",
    "# elements of a collection sequentially without having to know the underlying implementation details.\n",
    "# __iter__() and __next__(). The __iter__() method returns the iterator object itself,\n",
    "# while the __next__() method returns the next item in the sequence.\n",
    "# When there are no more items to return, __next__() raises the StopIteration exception."
   ]
  },
  {
   "cell_type": "code",
   "execution_count": 3,
   "id": "7a352a83-7c28-4cdb-9ba8-5f4539ec9d51",
   "metadata": {},
   "outputs": [
    {
     "name": "stdout",
     "output_type": "stream",
     "text": [
      "2\n",
      "4\n",
      "6\n",
      "8\n",
      "10\n"
     ]
    }
   ],
   "source": [
    "my_list = [2, 4, 6, 8, 10, 12, 14, 16, 18, 20]\n",
    "my_iterator = iter(my_list)\n",
    "\n",
    "for i in range(5):\n",
    "    print(next(my_iterator))"
   ]
  },
  {
   "cell_type": "code",
   "execution_count": 4,
   "id": "3b8f1e57-02a3-45c5-9b59-996d0663e701",
   "metadata": {},
   "outputs": [],
   "source": [
    "# Q4.  What is a generator function in python? Why yield keyword is used?\n",
    "# Give an example of a generator function."
   ]
  },
  {
   "cell_type": "code",
   "execution_count": 5,
   "id": "e9e33335-286b-424b-b82f-c78ab6d5d348",
   "metadata": {},
   "outputs": [],
   "source": [
    "# A generator function in Python is a type of function that allows us to generate a sequence of values over time\n",
    "# . Instead of returning a single value and exiting like a regular function,\n",
    "# a generator function can be paused and resumed during its execution, \n",
    "#  producing a sequence of values that can be iterated over.\n",
    "# A generator function is defined using the yield keyword instead of return.\n",
    "# When a generator function is called, it returns an iterator object that can be used to iterate over the sequence\n",
    "# of values generated by the function. \n",
    "# Each time the yield keyword is encountered,\n",
    "# the function's state is saved, and the yielded value is returned to the caller."
   ]
  },
  {
   "cell_type": "code",
   "execution_count": 6,
   "id": "b7245b5e-e445-44ec-8189-cd2069466fad",
   "metadata": {},
   "outputs": [],
   "source": [
    "def even_numbers(n):\n",
    "    for i in range(1, n+1):\n",
    "        yield 2 * i\n"
   ]
  },
  {
   "cell_type": "code",
   "execution_count": 7,
   "id": "6d9d7502-ac4c-472e-8556-851e7267ec06",
   "metadata": {},
   "outputs": [
    {
     "name": "stdout",
     "output_type": "stream",
     "text": [
      "2\n",
      "4\n",
      "6\n",
      "8\n",
      "10\n"
     ]
    }
   ],
   "source": [
    "even_nums = even_numbers(5)\n",
    "\n",
    "for num in even_nums:\n",
    "    print(num)\n"
   ]
  },
  {
   "cell_type": "code",
   "execution_count": 8,
   "id": "377e2ee6-e586-4b29-8698-63c2815821ec",
   "metadata": {},
   "outputs": [],
   "source": [
    "# Q5. Create a generator function for prime numbers less than 1000. Use the next() method to print the \n",
    "# first 20 prime numbers.\n"
   ]
  },
  {
   "cell_type": "code",
   "execution_count": 13,
   "id": "c92a0bd3-9d98-441c-8ba2-f0d65aae02bf",
   "metadata": {},
   "outputs": [],
   "source": [
    "def primes():\n",
    "    # Start with the first prime number, 2\n",
    "    yield 2\n",
    "\n",
    "    # Check odd numbers starting at 3 up to 999\n",
    "    for num in range(3, 1000, 2):\n",
    "        # Check if the number is prime\n",
    "        for i in range(3, int(num**0.5) + 1, 2):\n",
    "            if num % i == 0:\n",
    "                break\n",
    "        else:\n",
    "            # If the number is prime, yield it\n",
    "            yield num\n"
   ]
  },
  {
   "cell_type": "code",
   "execution_count": 14,
   "id": "e44fec52-63f3-48a7-af24-7e55e839fe2e",
   "metadata": {},
   "outputs": [
    {
     "name": "stdout",
     "output_type": "stream",
     "text": [
      "2\n",
      "3\n",
      "5\n",
      "7\n",
      "11\n",
      "13\n",
      "17\n",
      "19\n",
      "23\n",
      "29\n",
      "31\n",
      "37\n",
      "41\n",
      "43\n",
      "47\n",
      "53\n",
      "59\n",
      "61\n",
      "67\n",
      "71\n"
     ]
    }
   ],
   "source": [
    "# Create the generator object\n",
    "prime_generator = primes()\n",
    "\n",
    "# Print the first 20 prime numbers\n",
    "for i in range(20):\n",
    "    print(next(prime_generator))\n"
   ]
  },
  {
   "cell_type": "code",
   "execution_count": 15,
   "id": "64e3eb5f-5dec-4efd-8847-6944d20e24be",
   "metadata": {},
   "outputs": [],
   "source": [
    "# Q6. Write a python program to print the first 10 Fibonacci numbers using a while loop."
   ]
  },
  {
   "cell_type": "code",
   "execution_count": 16,
   "id": "ada1f0c2-b7ba-463e-825c-23daf79f2e8b",
   "metadata": {},
   "outputs": [
    {
     "name": "stdin",
     "output_type": "stream",
     "text": [
      "enter the number of element u are looking for  10\n"
     ]
    },
    {
     "name": "stdout",
     "output_type": "stream",
     "text": [
      "0\n",
      "1\n",
      "1\n",
      "2\n",
      "3\n",
      "5\n",
      "8\n",
      "13\n",
      "21\n",
      "34\n"
     ]
    }
   ],
   "source": [
    "number = int (input(\"enter the number of element u are looking for \"))\n",
    "a,b = 0,1\n",
    "counter = 0 \n",
    "while counter < number :\n",
    "    print(a)\n",
    "    c = a+b \n",
    "    a = b\n",
    "    b = c \n",
    "    counter = counter + 1"
   ]
  },
  {
   "cell_type": "code",
   "execution_count": 17,
   "id": "f9a7fead-5a76-4a8a-8820-33a453ac8d88",
   "metadata": {},
   "outputs": [],
   "source": [
    "# Q7. Write a List Comprehension to iterate through the given string: ‘pwskills’."
   ]
  },
  {
   "cell_type": "code",
   "execution_count": 18,
   "id": "f85e08b8-2f2c-4a80-8cc7-b54c5b99c861",
   "metadata": {},
   "outputs": [
    {
     "data": {
      "text/plain": [
       "['p', 'w', 's', 'k', 'i', 'l', 'l', 's']"
      ]
     },
     "execution_count": 18,
     "metadata": {},
     "output_type": "execute_result"
    }
   ],
   "source": [
    "string = \"pwskills\"\n",
    "[i for i in string ]"
   ]
  },
  {
   "cell_type": "code",
   "execution_count": 19,
   "id": "e6c149c8-8cbe-4970-897c-0ae270c306fa",
   "metadata": {},
   "outputs": [],
   "source": [
    "# Q8.Q8. Write a python program to check whether a given number is Palindrome or not using a while loop."
   ]
  },
  {
   "cell_type": "code",
   "execution_count": 20,
   "id": "8bfc4dd3-91ce-4e05-a6ea-5c817ee8f081",
   "metadata": {},
   "outputs": [
    {
     "name": "stdin",
     "output_type": "stream",
     "text": [
      "Enter a number:  10\n"
     ]
    },
    {
     "name": "stdout",
     "output_type": "stream",
     "text": [
      "10 is not a palindrome\n"
     ]
    }
   ],
   "source": [
    "num = int(input(\"Enter a number: \"))  # Get input from user\n",
    "original_num = num  # Store the original number for comparison later\n",
    "reverse_num = 0  # Initialize reverse number to 0\n",
    "\n",
    "while num > 0:\n",
    "    digit = num % 10  # Extract the last digit of the number\n",
    "    reverse_num = (reverse_num * 10) + digit  # Append the last digit to the reverse number\n",
    "    num //= 10  # Remove the last digit from the number\n",
    "\n",
    "if original_num == reverse_num:\n",
    "    print(original_num, \"is a palindrome\")\n",
    "else:\n",
    "    print(original_num, \"is not a palindrome\")\n"
   ]
  },
  {
   "cell_type": "code",
   "execution_count": 21,
   "id": "40c87ce2-5778-4a44-b0a5-dbf2878cda61",
   "metadata": {},
   "outputs": [],
   "source": [
    "# Q9. Write a code to print odd numbers from 1 to 100 using list comprehension.\n",
    "\n",
    "# Note: Use a list comprehension to create a list from 1 to 100 and\n",
    "# use another List comprehension to filter out odd numbers."
   ]
  },
  {
   "cell_type": "code",
   "execution_count": 28,
   "id": "d6a7c1ff-5a6b-4881-b59d-6329636725df",
   "metadata": {},
   "outputs": [
    {
     "data": {
      "text/plain": [
       "[1,\n",
       " 3,\n",
       " 5,\n",
       " 7,\n",
       " 9,\n",
       " 11,\n",
       " 13,\n",
       " 15,\n",
       " 17,\n",
       " 19,\n",
       " 21,\n",
       " 23,\n",
       " 25,\n",
       " 27,\n",
       " 29,\n",
       " 31,\n",
       " 33,\n",
       " 35,\n",
       " 37,\n",
       " 39,\n",
       " 41,\n",
       " 43,\n",
       " 45,\n",
       " 47,\n",
       " 49,\n",
       " 51,\n",
       " 53,\n",
       " 55,\n",
       " 57,\n",
       " 59,\n",
       " 61,\n",
       " 63,\n",
       " 65,\n",
       " 67,\n",
       " 69,\n",
       " 71,\n",
       " 73,\n",
       " 75,\n",
       " 77,\n",
       " 79,\n",
       " 81,\n",
       " 83,\n",
       " 85,\n",
       " 87,\n",
       " 89,\n",
       " 91,\n",
       " 93,\n",
       " 95,\n",
       " 97,\n",
       " 99]"
      ]
     },
     "execution_count": 28,
     "metadata": {},
     "output_type": "execute_result"
    }
   ],
   "source": [
    "[i for i in range (100) if i % 2 !=0 ]"
   ]
  },
  {
   "cell_type": "code",
   "execution_count": 26,
   "id": "2fbf95a5-618a-443f-a883-66474809778a",
   "metadata": {},
   "outputs": [
    {
     "name": "stdout",
     "output_type": "stream",
     "text": [
      "[1, 3, 5, 7, 9, 11, 13, 15, 17, 19, 21, 23, 25, 27, 29, 31, 33, 35, 37, 39, 41, 43, 45, 47, 49, 51, 53, 55, 57, 59, 61, 63, 65, 67, 69, 71, 73, 75, 77, 79, 81, 83, 85, 87, 89, 91, 93, 95, 97, 99]\n"
     ]
    }
   ],
   "source": [
    "# Create a list of numbers from 1 to 100 using list comprehension\n",
    "numbers = [num for num in range(1, 101)]\n",
    "\n",
    "# Filter out even numbers using another list comprehension\n",
    "odds = [num for num in numbers if num % 2 == 1]\n",
    "\n",
    "# Print the list of odd numbers\n",
    "print(odds)\n"
   ]
  },
  {
   "cell_type": "code",
   "execution_count": null,
   "id": "b6eafaa0-736b-4e5b-bc74-d14085a83b1e",
   "metadata": {},
   "outputs": [],
   "source": []
  }
 ],
 "metadata": {
  "kernelspec": {
   "display_name": "Python 3 (ipykernel)",
   "language": "python",
   "name": "python3"
  },
  "language_info": {
   "codemirror_mode": {
    "name": "ipython",
    "version": 3
   },
   "file_extension": ".py",
   "mimetype": "text/x-python",
   "name": "python",
   "nbconvert_exporter": "python",
   "pygments_lexer": "ipython3",
   "version": "3.10.8"
  }
 },
 "nbformat": 4,
 "nbformat_minor": 5
}
