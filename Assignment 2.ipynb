{
 "cells": [
  {
   "cell_type": "markdown",
   "id": "b026456e-ac45-4424-a610-20c61842db45",
   "metadata": {},
   "source": [
    "## Assignment 2"
   ]
  },
  {
   "cell_type": "code",
   "execution_count": null,
   "id": "135751ad-4d22-45b2-b8c8-5ae4ecc773c8",
   "metadata": {},
   "outputs": [],
   "source": [
    "## Q1 write a program to accept percentage from the user and display the\n",
    "## grade according to following criteria\n",
    "#marks A >90\n",
    "#marks B >80 and <=90\n",
    "#marks C >=60 and <=80\n",
    "#marks D <60\n"
   ]
  },
  {
   "cell_type": "code",
   "execution_count": 2,
   "id": "6771808c-caf3-4de6-9a43-8f23c33a27c5",
   "metadata": {},
   "outputs": [
    {
     "name": "stdin",
     "output_type": "stream",
     "text": [
      "Enter the marks percentage 45\n"
     ]
    },
    {
     "name": "stdout",
     "output_type": "stream",
     "text": [
      "Grade D\n"
     ]
    }
   ],
   "source": [
    "marks=int(input(\"Enter the marks percentage\"))\n",
    "if marks>90:\n",
    "    print(\"Grade A\")\n",
    "elif marks>80 and marks<=90:\n",
    "    print(\"Grade B\")\n",
    "elif marks>=60 and marks<=80:\n",
    "   \n",
    "        print(\"Grade C\") \n",
    "else:\n",
    "        print(\"Grade D\")        \n",
    " \n",
    "    "
   ]
  },
  {
   "cell_type": "code",
   "execution_count": null,
   "id": "d315816f-23bf-40af-b49b-e0c945acc7d9",
   "metadata": {},
   "outputs": [],
   "source": [
    "## Q2 write a program to accept the cost prize of a bike and display the road tax to be paid \n",
    "## according to the following criteria \n",
    "#tax=15% , cost_price > 100000\n",
    "#tax=10% , cost_price > 50000 and cost_price <= 100000\n",
    "#tax=15% , cost_price <= 50000"
   ]
  },
  {
   "cell_type": "code",
   "execution_count": 3,
   "id": "481f4dab-9c85-42f9-bf14-9c51a72aafdb",
   "metadata": {},
   "outputs": [
    {
     "name": "stdin",
     "output_type": "stream",
     "text": [
      " Enter the cost price of bike  45000\n"
     ]
    },
    {
     "name": "stdout",
     "output_type": "stream",
     "text": [
      "Road tax to be paid 2250.0\n"
     ]
    }
   ],
   "source": [
    "cost_price =int(input(\" Enter the cost price of bike \"))\n",
    "if cost_price>100000:\n",
    "    print(f\"Road tax to be paid {cost_price*.15}\")\n",
    "elif cost_price>50000 and cost_price <= 100000:\n",
    "    print(f\"Road tax to be paid {cost_price*.10}\")\n",
    "else:\n",
    "    print(f\"Road tax to be paid {cost_price*.05}\")"
   ]
  },
  {
   "cell_type": "code",
   "execution_count": null,
   "id": "bd28f40b-239a-4739-8c72-4b1a32c0d905",
   "metadata": {},
   "outputs": [],
   "source": [
    "## Q3 Accept any city from the user and display monuments of that city.\n",
    "# city = delhi, monument = Red fort\n",
    "# city = Agra ,  monument = Taj mahal \n",
    "# city = jaipur, monument =  jal mahal "
   ]
  },
  {
   "cell_type": "code",
   "execution_count": 4,
   "id": "c8fc47e8-3619-42bc-b949-e93fb6f73549",
   "metadata": {},
   "outputs": [
    {
     "name": "stdin",
     "output_type": "stream",
     "text": [
      "Enter Your City Name :  delhi\n"
     ]
    },
    {
     "name": "stdout",
     "output_type": "stream",
     "text": [
      "Sorry this Delhi are not present \n"
     ]
    }
   ],
   "source": [
    "monuments = { \"Delhi\" : \"Red Fort\", \"Agra\" : \"Taj Mahal\" , \"Jaipur\" : \"Jal Mahal\"}\n",
    "city= input(\"Enter Your City Name : \")\n",
    "if city in monuments :\n",
    "    print(f\"The monuments of {city.title()} are: {monuments[city]}\")\n",
    "else:\n",
    "    print(f\"Sorry this {city.title()} are not present \")\n",
    "    \n"
   ]
  },
  {
   "cell_type": "code",
   "execution_count": null,
   "id": "d1c0ae0b-3a3f-4a71-b2f1-5e703b279646",
   "metadata": {},
   "outputs": [],
   "source": [
    "## Q4 Check how many times a given number can be divided by 3,\n",
    "##    it is less than or equal to 10."
   ]
  },
  {
   "cell_type": "code",
   "execution_count": 5,
   "id": "435e3669-2842-4f86-a74b-a95dc18a2c28",
   "metadata": {},
   "outputs": [
    {
     "ename": "IndentationError",
     "evalue": "unexpected indent (3758398561.py, line 4)",
     "output_type": "error",
     "traceback": [
      "\u001b[0;36m  Cell \u001b[0;32mIn[5], line 4\u001b[0;36m\u001b[0m\n\u001b[0;31m    num= num/3\u001b[0m\n\u001b[0m    ^\u001b[0m\n\u001b[0;31mIndentationError\u001b[0m\u001b[0;31m:\u001b[0m unexpected indent\n"
     ]
    }
   ],
   "source": [
    "num = 10\n",
    "while  num<=10 :\n",
    "    print(num)\n",
    "      num= num/3\n",
    "\n",
    "    \n",
    "    "
   ]
  },
  {
   "cell_type": "code",
   "execution_count": null,
   "id": "02beb16d-45de-4086-8b60-c12a526ad3ac",
   "metadata": {},
   "outputs": [],
   "source": [
    "## Q5 why and when to use While loop in python give a detailed description wth exmple ?\n",
    "#Ans :   A while loop is a type of loop in Python that is used to repeatedly execute a block of code \n",
    "#        as long a certain condition is true. The while loop is useful when we  need to repeat a task\n",
    "#        until a certain condition is met, or when we don't know how many times we need to repeat the task.\n",
    "#EXAMPLE :"
   ]
  },
  {
   "cell_type": "code",
   "execution_count": 6,
   "id": "6d81274e-e793-4ce0-9c65-7753a63f617d",
   "metadata": {},
   "outputs": [
    {
     "name": "stdout",
     "output_type": "stream",
     "text": [
      "25\n",
      "26\n",
      "27\n",
      "28\n",
      "29\n",
      "30\n",
      "31\n",
      "32\n",
      "33\n",
      "34\n",
      "35\n",
      "36\n",
      "37\n",
      "38\n",
      "39\n",
      "40\n",
      "41\n",
      "42\n",
      "43\n",
      "44\n",
      "45\n",
      "46\n",
      "47\n",
      "48\n",
      "49\n",
      "50\n",
      "51\n",
      "52\n",
      "53\n",
      "54\n",
      "55\n",
      "56\n",
      "57\n",
      "58\n",
      "59\n",
      "60\n",
      "its time for retirement\n"
     ]
    }
   ],
   "source": [
    "joining_age=25\n",
    "while joining_age<=60:\n",
    "    print(joining_age)\n",
    "    joining_age=joining_age+1\n",
    "    \n",
    "else:\n",
    "    print(\"its time for retirement\")"
   ]
  },
  {
   "cell_type": "code",
   "execution_count": null,
   "id": "31f98fde-b913-4200-b3f4-4b4f2860e8b6",
   "metadata": {},
   "outputs": [],
   "source": [
    "# Q6 Use nested while loop to print 3 diffrent pattern."
   ]
  },
  {
   "cell_type": "code",
   "execution_count": 17,
   "id": "92bcfcfd-b1db-479f-8cc3-2e1c5c602283",
   "metadata": {},
   "outputs": [
    {
     "name": "stdout",
     "output_type": "stream",
     "text": [
      "*\n",
      "**\n",
      "***\n",
      "****\n",
      "*****\n",
      "******\n"
     ]
    }
   ],
   "source": [
    "n=6\n",
    "for i in range (0,n):\n",
    "    for j in range (0,i+1):\n",
    "        print(\"*\",end=\"\")\n",
    "    print(\"\\r\")    \n",
    "        "
   ]
  },
  {
   "cell_type": "code",
   "execution_count": 16,
   "id": "763a46ee-08bd-461b-90bd-4228b199c1cb",
   "metadata": {},
   "outputs": [
    {
     "name": "stdout",
     "output_type": "stream",
     "text": [
      "      *\n",
      "     ***\n",
      "    *****\n",
      "   *******\n",
      "  *********\n",
      " ***********\n"
     ]
    }
   ],
   "source": [
    "n = 6\n",
    "for i in range(n):\n",
    "    print(\" \"*(n-i),end='')\n",
    "    for j in range(i*2+1):\n",
    "        print(\"*\",end=\"\")\n",
    "    print() \n",
    "        "
   ]
  },
  {
   "cell_type": "code",
   "execution_count": 15,
   "id": "a8710843-2177-4c24-ac3d-ac41576e2ed5",
   "metadata": {},
   "outputs": [
    {
     "name": "stdout",
     "output_type": "stream",
     "text": [
      "**\n",
      "**\n",
      "**\n",
      "**\n",
      "**\n",
      "**\n"
     ]
    }
   ],
   "source": [
    "size = 3\n",
    "for i in range(size):\n",
    "    for j in range(size-i):\n",
    "        print(\"*\",end=\"*\")\n",
    "        print()"
   ]
  },
  {
   "cell_type": "code",
   "execution_count": null,
   "id": "8da36108-58c8-47d8-9f28-7eae47854a97",
   "metadata": {},
   "outputs": [],
   "source": [
    "# Q7&Q8 Reverse a while loop to display number from 10 to 1."
   ]
  },
  {
   "cell_type": "code",
   "execution_count": 1,
   "id": "8d87f48a-7bdf-4917-b956-b5dcc63bf035",
   "metadata": {},
   "outputs": [
    {
     "name": "stdout",
     "output_type": "stream",
     "text": [
      "10\n",
      "9\n",
      "8\n",
      "7\n",
      "6\n",
      "5\n",
      "4\n",
      "3\n",
      "2\n",
      "1\n"
     ]
    }
   ],
   "source": [
    "i = 10\n",
    "while i >= 1:\n",
    "    print(i) \n",
    "    i -=  1\n",
    "   "
   ]
  },
  {
   "cell_type": "code",
   "execution_count": null,
   "id": "800245fd-6edf-4c64-8227-1945fdfc9484",
   "metadata": {},
   "outputs": [],
   "source": []
  },
  {
   "cell_type": "code",
   "execution_count": null,
   "id": "6337899c-64a2-486f-bb29-312a3e11654a",
   "metadata": {},
   "outputs": [],
   "source": []
  }
 ],
 "metadata": {
  "kernelspec": {
   "display_name": "Python 3 (ipykernel)",
   "language": "python",
   "name": "python3"
  },
  "language_info": {
   "codemirror_mode": {
    "name": "ipython",
    "version": 3
   },
   "file_extension": ".py",
   "mimetype": "text/x-python",
   "name": "python",
   "nbconvert_exporter": "python",
   "pygments_lexer": "ipython3",
   "version": "3.10.8"
  }
 },
 "nbformat": 4,
 "nbformat_minor": 5
}
