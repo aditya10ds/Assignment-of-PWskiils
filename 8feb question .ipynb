{
 "cells": [
  {
   "cell_type": "markdown",
   "id": "e789a614-acc7-40e0-a91b-2fc29f11dd12",
   "metadata": {},
   "source": [
    "Q1. What is Abstraction in OOps? Explain with an example.\n",
    "Abstraction is one of the fundamental principles of object-oriented programming (OOP) that focuses on hiding the internal implementation details of an object and exposing only the essential features and functionalities to the outside world. It allows the creation of abstract data types (classes) that provide a clear and simplified interface for interacting with the objects.\n",
    "\n"
   ]
  },
  {
   "cell_type": "code",
   "execution_count": 3,
   "id": "d8ad22ee-5a5a-4024-8b94-16da56965302",
   "metadata": {},
   "outputs": [
    {
     "name": "stdout",
     "output_type": "stream",
     "text": [
      "24\n",
      "20\n",
      "78.5\n",
      "31.400000000000002\n"
     ]
    }
   ],
   "source": [
    "from abc import ABC, abstractmethod\n",
    "\n",
    "class Shape(ABC):\n",
    "    @abstractmethod\n",
    "    def area(self):\n",
    "        pass\n",
    "\n",
    "    @abstractmethod\n",
    "    def perimeter(self):\n",
    "        pass\n",
    "\n",
    "class Rectangle(Shape):\n",
    "    def __init__(self, length, width):\n",
    "        self.length = length\n",
    "        self.width = width\n",
    "\n",
    "    def area(self):\n",
    "        return self.length * self.width\n",
    "\n",
    "    def perimeter(self):\n",
    "        return 2 * (self.length + self.width)\n",
    "\n",
    "class Circle(Shape):\n",
    "    def __init__(self, radius):\n",
    "        self.radius = radius\n",
    "\n",
    "    def area(self):\n",
    "        return 3.14 * self.radius * self.radius\n",
    "\n",
    "    def perimeter(self):\n",
    "        return 2 * 3.14 * self.radius\n",
    "\n",
    "rectangle = Rectangle(4, 6)\n",
    "print(rectangle.area())  \n",
    "print(rectangle.perimeter())\n",
    "\n",
    "circle = Circle(5)\n",
    "print(circle.area())  \n",
    "print(circle.perimeter())  \n"
   ]
  },
  {
   "cell_type": "markdown",
   "id": "13cfa454-baaa-4e08-8fd8-3402b3fddec5",
   "metadata": {},
   "source": [
    "Differentiate between Abstraction and Encapsulation. Explain with an example.\n",
    "\n",
    "Abstraction focuses on hiding the internal implementation details of an object and exposing only the essential features and functionalities to the outside world. It allows the creation of abstract data types and defines the interface for interacting with objects. Abstraction is achieved through the use of abstract classes and interfaces.\n",
    "\n",
    "Encapsulation, on the other hand, is about bundling the data (attributes) and methods (functions) together into a single unit called a class. It provides the mechanism to restrict direct access to the data, and instead, access to the data is controlled through methods. Encapsulation ensures data integrity and prevents unauthorized access or modification of the object's internal state."
   ]
  },
  {
   "cell_type": "code",
   "execution_count": 5,
   "id": "f01266dd-9f0b-4857-b427-dfd6a16e956f",
   "metadata": {},
   "outputs": [],
   "source": [
    "class BankAccount:\n",
    "    def __init__(self, account_number, balance):\n",
    "        self.account_number = account_number\n",
    "        self.balance = balance\n",
    "\n",
    "    def deposit(self, amount):\n",
    "        self.balance += amount\n",
    "\n",
    "    def withdraw(self, amount):\n",
    "        if self.balance >= amount:\n",
    "            self.balance -= amount\n",
    "        else:\n",
    "            print(\"Insufficient funds!\")\n",
    "\n",
    "    def get_balance(self):\n",
    "        return self.balance\n"
   ]
  },
  {
   "cell_type": "code",
   "execution_count": null,
   "id": "856f54ca-d370-446a-9be0-3dfca8cd48f0",
   "metadata": {},
   "outputs": [],
   "source": [
    "from abc import ABC, abstractmethod\n",
    "\n",
    "class BankAccount(ABC):\n",
    "    def __init__(self, account_number, balance):\n",
    "        self.account_number = account_number\n",
    "        self.balance = balance\n",
    "\n",
    "    @abstractmethod\n",
    "    def calculate_interest(self):\n",
    "        pass\n",
    "\n",
    "class SavingsAccount(BankAccount):\n",
    "    def __init__(self, account_number, balance):\n",
    "        super().__init__(account_number, balance)\n",
    "\n",
    "    def calculate_interest(self):\n",
    "        return self.balance * 0.05\n"
   ]
  },
  {
   "cell_type": "markdown",
   "id": "aad46c90-3f2c-4b1f-8c4a-43929ab8aad2",
   "metadata": {},
   "source": [
    "Q3. What is abc module in python? Why is it used?\n",
    "\n",
    "The abc module in Python stands for \"Abstract Base Classes.\" It provides infrastructure for defining abstract base classes, which are classes that cannot be instantiated themselves but serve as a basis for defining concrete subclasses.\n",
    "\n",
    "The abc module is used to implement abstraction and to define interfaces in Python. It allows you to define abstract methods that must be implemented by concrete subclasses. Abstract base classes are useful when you want to define a common interface that multiple classes should adhere to, ensuring consistent behavior and providing a clear contract for interacting with objects.\n",
    "\n",
    "Here are some key features and uses of the abc module:\n",
    "\n",
    "Defining Abstract Base Classes (ABCs): The abc module provides the ABC class and the abstractmethod decorator, which are used to define abstract base classes. An abstract base class is created by subclassing ABC and using the abstractmethod decorator on the methods that must be implemented by the subclasses.\n",
    "\n",
    "Enforcing Method Implementation: By defining abstract methods in an abstract base class, you can ensure that any concrete subclass that inherits from the ABC must implement those methods. If a subclass fails to implement any abstract method, a TypeError will be raised.\n",
    "\n",
    "Polymorphism and Interface Definition: Abstract base classes provide a way to define common interfaces that multiple classes can adhere to. This promotes polymorphism, where different objects can be treated as instances of the abstract base class, enabling code reuse and modular design.\n",
    "\n",
    "Type Checking: The abc module can be used for type checking. By using ABCs as type hints in function signatures or variable annotations, you can indicate that a parameter or variable should be an instance of a particular abstract base class or its subclass. This helps in maintaining type consistency and catching type-related errors."
   ]
  },
  {
   "cell_type": "code",
   "execution_count": 6,
   "id": "a6120e96-0c71-4677-8594-7fa7a8c2b6ce",
   "metadata": {},
   "outputs": [
    {
     "name": "stdout",
     "output_type": "stream",
     "text": [
      "Woof!\n",
      "Meow!\n"
     ]
    },
    {
     "ename": "TypeError",
     "evalue": "Can't instantiate abstract class Animal with abstract method make_sound",
     "output_type": "error",
     "traceback": [
      "\u001b[0;31m---------------------------------------------------------------------------\u001b[0m",
      "\u001b[0;31mTypeError\u001b[0m                                 Traceback (most recent call last)",
      "Cell \u001b[0;32mIn[6], line 21\u001b[0m\n\u001b[1;32m     18\u001b[0m cat \u001b[38;5;241m=\u001b[39m Cat()\n\u001b[1;32m     19\u001b[0m cat\u001b[38;5;241m.\u001b[39mmake_sound() \n\u001b[0;32m---> 21\u001b[0m animal \u001b[38;5;241m=\u001b[39m \u001b[43mAnimal\u001b[49m\u001b[43m(\u001b[49m\u001b[43m)\u001b[49m  \n",
      "\u001b[0;31mTypeError\u001b[0m: Can't instantiate abstract class Animal with abstract method make_sound"
     ]
    }
   ],
   "source": [
    "from abc import ABC, abstractmethod\n",
    "\n",
    "class Animal(ABC):\n",
    "    @abstractmethod\n",
    "    def make_sound(self):\n",
    "        pass\n",
    "\n",
    "class Dog(Animal):\n",
    "    def make_sound(self):\n",
    "        print(\"Woof!\")\n",
    "\n",
    "class Cat(Animal):\n",
    "    def make_sound(self):\n",
    "        print(\"Meow!\")\n",
    "\n",
    "dog = Dog()\n",
    "dog.make_sound()  \n",
    "cat = Cat()\n",
    "cat.make_sound() \n",
    "\n",
    "animal = Animal()  \n"
   ]
  },
  {
   "cell_type": "markdown",
   "id": "b514032b-54b4-4bfb-9c2b-a7b4f5b2decf",
   "metadata": {},
   "source": [
    "Q4. How can we achieve data abstraction?\n",
    "\n"
   ]
  },
  {
   "cell_type": "code",
   "execution_count": null,
   "id": "9b928e54-1a21-442e-b96e-4e85a389edaf",
   "metadata": {},
   "outputs": [],
   "source": []
  },
  {
   "cell_type": "code",
   "execution_count": null,
   "id": "16201f60-8799-4948-9a74-202b1f3544e1",
   "metadata": {},
   "outputs": [],
   "source": []
  },
  {
   "cell_type": "code",
   "execution_count": null,
   "id": "8662809c-de40-40a3-abaf-d0ad8cf2a110",
   "metadata": {},
   "outputs": [],
   "source": []
  },
  {
   "cell_type": "code",
   "execution_count": null,
   "id": "84ad01bd-d682-4e68-9c40-c11e4652f707",
   "metadata": {},
   "outputs": [],
   "source": [
    "Q2. Differentiate between Abstraction and Encapsulation. Explain with an example.\n",
    "Q3. What is abc module in python? Why is it used?\n",
    "Q4. How can we achieve data abstraction?\n",
    "Q5. Can we create an instance of an abstract class? Explain your answer."
   ]
  }
 ],
 "metadata": {
  "kernelspec": {
   "display_name": "Python 3 (ipykernel)",
   "language": "python",
   "name": "python3"
  },
  "language_info": {
   "codemirror_mode": {
    "name": "ipython",
    "version": 3
   },
   "file_extension": ".py",
   "mimetype": "text/x-python",
   "name": "python",
   "nbconvert_exporter": "python",
   "pygments_lexer": "ipython3",
   "version": "3.10.8"
  }
 },
 "nbformat": 4,
 "nbformat_minor": 5
}
