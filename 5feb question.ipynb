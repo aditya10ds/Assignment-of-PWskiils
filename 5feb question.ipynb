{
 "cells": [
  {
   "cell_type": "markdown",
   "id": "525eb1e1-8453-4916-bcc8-6909d61d3444",
   "metadata": {},
   "source": [
    "Q1. Explain Class and Object with respect to Object-Oriented Programming. Give a suitable example.\n",
    "\n",
    "Q2. Name the four pillars of OOPs.\n",
    "\n",
    "Q3. Explain why the __init__() function is used. Give a suitable example.\n",
    "\n",
    "Q4. Why self is used in OOPs?\n",
    "\n",
    "Q5. What is inheritance? Give an example for each type of inheritance."
   ]
  },
  {
   "cell_type": "markdown",
   "id": "c157ea40-ebb5-483a-9ebc-a3b0ac80b457",
   "metadata": {},
   "source": [
    "#### Q1. Explain Class and Object with respect to Object-Oriented Programming. Give a suitable example.\n",
    "\n",
    "In object-oriented programming (OOP),\n",
    "a class is a blueprint or a template for creating objects that\n",
    "encapsulate data and methods. An object is an instance of a class and \n",
    "it contains data and behavior defined by its class. In other words,\n",
    "a class defines the attributes and methods that an object can have, \n",
    "while an object is a specific instance of that class with its own unique set of attributes and behaviors.\n",
    "\n",
    "For example, let's consider a class called \"Car\" which represents a generic car. \n",
    "This class might have attributes such as \"model\", \"color\", \"engine size\", and \"year\",\n",
    "as well as methods such as \"start\", \"stop\", \"accelerate\", and \"brake\"."
   ]
  },
  {
   "cell_type": "code",
   "execution_count": 4,
   "id": "f7783612-bf29-4e9d-bf7c-1d4d8e73cecf",
   "metadata": {},
   "outputs": [],
   "source": [
    "class car :\n",
    "    def __init__(mycar,colour , model , year ):\n",
    "        mycar.colour = colour \n",
    "        mycar.model  = model \n",
    "        mycar.year   = year\n",
    "        \n",
    "    def return_car_details(mycar):\n",
    "        return mycar.colour , mycar.year , mycar.model\n",
    "        "
   ]
  },
  {
   "cell_type": "code",
   "execution_count": 8,
   "id": "5643da72-d277-44f7-a44b-046067ed118a",
   "metadata": {},
   "outputs": [],
   "source": [
    "aditya = car( \"black\" , \"AudiQ1\"  ,2020 )"
   ]
  },
  {
   "cell_type": "code",
   "execution_count": 9,
   "id": "5041f2a2-54b1-4211-93a4-f5fd26c39a40",
   "metadata": {},
   "outputs": [
    {
     "data": {
      "text/plain": [
       "'black'"
      ]
     },
     "execution_count": 9,
     "metadata": {},
     "output_type": "execute_result"
    }
   ],
   "source": [
    "aditya.colour"
   ]
  },
  {
   "cell_type": "code",
   "execution_count": 10,
   "id": "99deaea4-63dd-48d9-807b-a81c6ba7142a",
   "metadata": {},
   "outputs": [
    {
     "data": {
      "text/plain": [
       "2020"
      ]
     },
     "execution_count": 10,
     "metadata": {},
     "output_type": "execute_result"
    }
   ],
   "source": [
    "aditya.year"
   ]
  },
  {
   "cell_type": "code",
   "execution_count": 11,
   "id": "bc7702bf-8c37-4e38-a5c8-55ef74f80f2a",
   "metadata": {},
   "outputs": [
    {
     "data": {
      "text/plain": [
       "('black', 2020, 'AudiQ1')"
      ]
     },
     "execution_count": 11,
     "metadata": {},
     "output_type": "execute_result"
    }
   ],
   "source": [
    "aditya.return_car_details()"
   ]
  },
  {
   "cell_type": "markdown",
   "id": "bf1933aa-a1ed-4e3e-a169-7c8a3789f23c",
   "metadata": {},
   "source": [
    "Q2. Name the four pillars of OOPs.\n",
    "\n",
    "Encapsulation: Encapsulation is the mechanism of binding data and methods that\n",
    "manipulate that data together within a single unit, which is called a class.\n",
    "The main idea behind encapsulation is to hide the internal details of an object\n",
    "from the outside world and to provide a simple interface for interacting with that object.\n",
    "\n",
    "Abstraction: Abstraction refers to the process of representing complex real-world entities\n",
    "in a simplified manner. It is the act of creating a model or representation of something, \n",
    "such as an object, that includes only the most important aspects of that thing and hides unnecessary details.\n",
    "\n",
    "Inheritance: Inheritance is a mechanism by which a new class can be derived from an existing class,\n",
    "inheriting all the properties and methods of the parent class. This allows for code reusability and \n",
    "helps to create a hierarchical class structure.\n",
    "\n",
    "Polymorphism: Polymorphism is the ability of an object to take on multiple forms or have multiple behaviors.\n",
    "It allows objects of different types to be treated as if they are the same type, and \n",
    "it allows for flexibility in the design of software systems.\n",
    "Polymorphism is typically implemented through inheritance and method overriding or \n",
    "through interfaces and method implementation."
   ]
  },
  {
   "cell_type": "markdown",
   "id": "0c3e6cea-88c1-4d4f-b843-d98cf144de35",
   "metadata": {},
   "source": [
    "Q3. Explain why the init() function is used. Give a suitable example.\n",
    "\n",
    "\n",
    "In object-oriented programming (OOP), the init() function is used as a constructor method\n",
    "for initializing objects of a class. \n",
    "It is called automatically when an object is created from a class and \n",
    "it is used to set the initial values of the attributes of the object.\n",
    "\n",
    "The init() function is an important part of OOP because it ensures that \n",
    "the object is properly initialized before it is used. Without a proper initialization,\n",
    "the object may contain garbage values or undefined behavior, \n",
    "leading to unexpected results or errors in the program.\n"
   ]
  },
  {
   "cell_type": "code",
   "execution_count": 12,
   "id": "1445071e-7417-45ff-b1f5-d54aaef3504f",
   "metadata": {},
   "outputs": [],
   "source": [
    "class Person:\n",
    "    def __init__(self, name, age, occupation):\n",
    "        self.name = name\n",
    "        self.age = age\n",
    "        self.occupation = occupation\n"
   ]
  },
  {
   "cell_type": "code",
   "execution_count": 13,
   "id": "e4d23822-c86a-4f8f-8e1b-a6e1474ac65e",
   "metadata": {},
   "outputs": [],
   "source": [
    "person1 = Person(\"John\", 30, \"Engineer\")\n"
   ]
  },
  {
   "cell_type": "code",
   "execution_count": 17,
   "id": "459e613d-10ea-46c4-8abb-fce64f668d1a",
   "metadata": {},
   "outputs": [
    {
     "data": {
      "text/plain": [
       "'John'"
      ]
     },
     "execution_count": 17,
     "metadata": {},
     "output_type": "execute_result"
    }
   ],
   "source": [
    "person1.name "
   ]
  },
  {
   "cell_type": "markdown",
   "id": "51ceb545-5d51-4ca5-b941-c0e0f936840d",
   "metadata": {},
   "source": [
    "Q4. Why self is used in OOPs?\n",
    "\n",
    "In object-oriented programming (OOP), self is used as a reference to the current object or instance of a class. It is a special keyword that is used within class methods to access and manipulate the attributes and methods of the object.\n",
    "\n",
    "When a method is called on an object, the object itself is passed to the method as the first argument. This argument is typically named self, but it can be named anything else as long as it is the first parameter of the method.\n",
    "\n",
    "Using self in OOP allows us to:\n",
    "\n",
    "Access the attributes and methods of the current object within a method. For example, if we have a class Person with an attribute name, we can access the name attribute within a method using self.name.\n",
    "\n",
    "Call other methods of the current object. For example, if we have a class Person with a method greet, we can call the greet method from within another method of the Person class using self.greet().\n",
    "\n",
    "Create new attributes or modify existing attributes of the current object. For example, if we have a class Person with an attribute age, we can modify the age attribute within a method using self.age = new_age."
   ]
  },
  {
   "cell_type": "markdown",
   "id": "6fa9b2f6-b207-4223-9874-b70260448d38",
   "metadata": {},
   "source": [
    "Q5. What is inheritance? Give an example for each type of inheritance.\n",
    "\n",
    "Inheritance is a fundamental concept in object-oriented programming (OOP) that allows us to create new classes based on existing classes. Inheritance is a mechanism by which one class can acquire the properties and methods of another class.\n",
    "\n",
    "Inheritance is based on the \"is-a\" relationship, which means that a subclass is a type of its superclass. In other words, a subclass inherits all the properties and methods of its superclass and can add its own properties and methods or override the ones inherited from the superclass.\n",
    "\n",
    "There are four types of inheritance in Python:\n",
    "\n",
    "Single Inheritance: Single inheritance is the simplest form of inheritance in which a subclass inherits from only one superclass. In single inheritance, a class is derived from another class, which is called the superclass or base class. The derived class is called the subclass or derived class. An example of single inheritance is shown below:\n"
   ]
  },
  {
   "cell_type": "code",
   "execution_count": 18,
   "id": "bbb1cc74-2974-410e-a084-9ed05795ed4c",
   "metadata": {},
   "outputs": [
    {
     "name": "stdout",
     "output_type": "stream",
     "text": [
      "Buddy is eating.\n",
      "Woof!\n"
     ]
    }
   ],
   "source": [
    "class Animal:\n",
    "    def __init__(self, name):\n",
    "        self.name = name\n",
    "        \n",
    "    def eat(self):\n",
    "        print(f\"{self.name} is eating.\")\n",
    "\n",
    "class Dog(Animal):\n",
    "    def bark(self):\n",
    "        print(\"Woof!\")\n",
    "\n",
    "dog = Dog(\"Buddy\")\n",
    "dog.eat()  # Output: Buddy is eating.\n",
    "dog.bark()  # Output: Woof!\n"
   ]
  },
  {
   "cell_type": "code",
   "execution_count": null,
   "id": "f66e0b16-41e0-4a70-8197-56fe2bb0c686",
   "metadata": {},
   "outputs": [],
   "source": [
    "Multiple Inheritance: Multiple inheritance is a type of inheritance in which a subclass inherits from multiple superclasses. In multiple inheritance, a class is derived from two or more classes. An example of multiple inheritance is shown below:"
   ]
  }
 ],
 "metadata": {
  "kernelspec": {
   "display_name": "Python 3 (ipykernel)",
   "language": "python",
   "name": "python3"
  },
  "language_info": {
   "codemirror_mode": {
    "name": "ipython",
    "version": 3
   },
   "file_extension": ".py",
   "mimetype": "text/x-python",
   "name": "python",
   "nbconvert_exporter": "python",
   "pygments_lexer": "ipython3",
   "version": "3.10.8"
  }
 },
 "nbformat": 4,
 "nbformat_minor": 5
}
