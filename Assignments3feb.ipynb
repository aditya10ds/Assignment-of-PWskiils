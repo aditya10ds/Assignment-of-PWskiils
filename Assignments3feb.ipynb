{
 "cells": [
  {
   "cell_type": "code",
   "execution_count": 1,
   "id": "642fa4ff-6db0-4e94-9b02-81f9c9da5ea0",
   "metadata": {},
   "outputs": [],
   "source": [
    "#Q1. Which keyword is used to create a function? Create a function to return a \n",
    "#    list of odd numbers in the range of 1 to 25.\n"
   ]
  },
  {
   "cell_type": "code",
   "execution_count": null,
   "id": "a3826070-c6b8-4610-ba62-d95575b0a42f",
   "metadata": {},
   "outputs": [],
   "source": [
    "#keyword is df"
   ]
  },
  {
   "cell_type": "code",
   "execution_count": 2,
   "id": "b7e86bdb-5d9a-4420-ac7a-397baceff56e",
   "metadata": {},
   "outputs": [
    {
     "data": {
      "text/plain": [
       "range(1, 25)"
      ]
     },
     "execution_count": 2,
     "metadata": {},
     "output_type": "execute_result"
    }
   ],
   "source": [
    " range (1,25)\n"
   ]
  },
  {
   "cell_type": "code",
   "execution_count": 3,
   "id": "baf330b7-912e-44d1-9403-2319b86f82d2",
   "metadata": {},
   "outputs": [],
   "source": [
    "n = range (1,25)"
   ]
  },
  {
   "cell_type": "code",
   "execution_count": 4,
   "id": "ff10bab1-704c-4d98-afcd-6a07caa3663f",
   "metadata": {},
   "outputs": [],
   "source": [
    "def test1(a):\n",
    "    n =[]\n",
    "    for i in a:\n",
    "        if i%2 !=0:\n",
    "            n.append(i)\n",
    "    return n        "
   ]
  },
  {
   "cell_type": "code",
   "execution_count": 5,
   "id": "2b534877-a505-40c6-abe3-d8bf5417ab4f",
   "metadata": {},
   "outputs": [
    {
     "data": {
      "text/plain": [
       "[1, 3, 5, 7, 9, 11, 13, 15, 17, 19, 21, 23]"
      ]
     },
     "execution_count": 5,
     "metadata": {},
     "output_type": "execute_result"
    }
   ],
   "source": [
    "test1(n)"
   ]
  },
  {
   "cell_type": "code",
   "execution_count": null,
   "id": "90aaeed2-daa5-438a-8319-318fc1b83a7a",
   "metadata": {},
   "outputs": [],
   "source": [
    "#Q2. Why *args and **kwargs is used in some functions? \n",
    "#    Create a function each for *args and **kwargs to\n",
    "#    demonstrate their use."
   ]
  },
  {
   "cell_type": "code",
   "execution_count": null,
   "id": "07a87836-de13-447b-b47c-06fd5e3aee41",
   "metadata": {},
   "outputs": [],
   "source": [
    "#   *args = arguments (we can use any word with*) it basically mean\n",
    "#             to take n number of argumensts\n",
    "#    **kwargs :it basically mean to take n number of argumensts\n",
    "#              with key value pair. {a:1,b:2}"
   ]
  },
  {
   "cell_type": "code",
   "execution_count": 6,
   "id": "2f36e82a-dbfd-4d95-b482-0ed6db386efa",
   "metadata": {},
   "outputs": [],
   "source": [
    "def test2(*aadi):\n",
    "    return aadi"
   ]
  },
  {
   "cell_type": "code",
   "execution_count": 8,
   "id": "5af8f4ea-791d-45f7-89f1-e7b7eac07c43",
   "metadata": {},
   "outputs": [
    {
     "data": {
      "text/plain": [
       "(1, 2, 3, 4, 54, 5, 6)"
      ]
     },
     "execution_count": 8,
     "metadata": {},
     "output_type": "execute_result"
    }
   ],
   "source": [
    "test2(1,2,3,4,54,5,6,)"
   ]
  },
  {
   "cell_type": "code",
   "execution_count": 18,
   "id": "0c4c3633-5f83-43f0-9d5d-1b84076225d5",
   "metadata": {},
   "outputs": [],
   "source": [
    "def test3(*aadi, a ):\n",
    "     return aadi, a\n"
   ]
  },
  {
   "cell_type": "code",
   "execution_count": 21,
   "id": "95af90f5-66c6-4656-94e8-ae2795dbba13",
   "metadata": {},
   "outputs": [
    {
     "data": {
      "text/plain": [
       "((1, 2, 3), 10)"
      ]
     },
     "execution_count": 21,
     "metadata": {},
     "output_type": "execute_result"
    }
   ],
   "source": [
    "test3(1,2,3,a=10)"
   ]
  },
  {
   "cell_type": "code",
   "execution_count": 24,
   "id": "2ca7d03f-31b8-4f33-b107-b09514c4529a",
   "metadata": {},
   "outputs": [],
   "source": [
    "def test4(**aadi ):\n",
    "     return aadi\n"
   ]
  },
  {
   "cell_type": "code",
   "execution_count": 25,
   "id": "2e49977b-adfd-4bec-a65e-3f11d6f77360",
   "metadata": {},
   "outputs": [
    {
     "data": {
      "text/plain": [
       "dict"
      ]
     },
     "execution_count": 25,
     "metadata": {},
     "output_type": "execute_result"
    }
   ],
   "source": [
    "type(test4())"
   ]
  },
  {
   "cell_type": "code",
   "execution_count": 26,
   "id": "644aab8f-3a43-4a10-8c91-002ebb2bf8b4",
   "metadata": {},
   "outputs": [
    {
     "data": {
      "text/plain": [
       "{'a': 34, 'b': 23, 'c': [1, 2, 3, 4], 'd': ('sudh', 'pwskills')}"
      ]
     },
     "execution_count": 26,
     "metadata": {},
     "output_type": "execute_result"
    }
   ],
   "source": [
    "test4(a = 34 , b = 23 , c = [1,2,3,4] , d = (\"sudh\" , \"pwskills\"))"
   ]
  },
  {
   "cell_type": "code",
   "execution_count": null,
   "id": "c14bc131-46dd-4718-9d34-8ab9ca47b12c",
   "metadata": {},
   "outputs": [],
   "source": [
    "#Q3. What is an iterator in python? \n",
    "#    Name the method used to initialise the iterator object and \n",
    "#    the method used for iteration. \n",
    "#    Use these methods to print the first \n",
    "#    five elements of the given list [2, 4, 6, 8, 10, 12, 14, 16,\n",
    "#   18, 20]."
   ]
  },
  {
   "cell_type": "code",
   "execution_count": null,
   "id": "686989df-ed9c-4a64-88dd-e864acbea5bb",
   "metadata": {},
   "outputs": [],
   "source": [
    "# An iterator in Python is an object that implements \n",
    "# the iterator protocol,which consists of two methods: __iter__() and __next__().\n",
    "# the __iter__() method returns the iterator object itself,\n",
    "# while the __next__() method returns the next value from the sequence.."
   ]
  },
  {
   "cell_type": "code",
   "execution_count": 2,
   "id": "d878d9a8-f119-491c-b0bd-508d4e7a8e9f",
   "metadata": {},
   "outputs": [
    {
     "name": "stdout",
     "output_type": "stream",
     "text": [
      "2\n",
      "4\n",
      "6\n",
      "8\n",
      "10\n"
     ]
    }
   ],
   "source": [
    "# create an iterator object using iter() method\n",
    "my_iter = iter([2, 4, 6, 8, 10, 12, 14, 16, 18, 20])\n",
    "\n",
    "# iterate over the first five elements using for loop\n",
    "for i in range(5):\n",
    "    print(next(my_iter))\n",
    "\n",
    "\n"
   ]
  },
  {
   "cell_type": "code",
   "execution_count": 3,
   "id": "17f30d46-efbc-44e0-a2eb-820adf65ae10",
   "metadata": {},
   "outputs": [
    {
     "name": "stdout",
     "output_type": "stream",
     "text": [
      "12\n",
      "14\n",
      "16\n",
      "18\n",
      "20\n"
     ]
    }
   ],
   "source": [
    "# alternatively, iterate over the first five elements using next() method\n",
    "print(next(my_iter))\n",
    "print(next(my_iter))\n",
    "print(next(my_iter))\n",
    "print(next(my_iter))\n",
    "print(next(my_iter))"
   ]
  },
  {
   "cell_type": "code",
   "execution_count": null,
   "id": "6fce465d-1a7f-4254-a045-e60de64f2db8",
   "metadata": {},
   "outputs": [],
   "source": [
    "#Q4. What is a generator function in python? Why yield keyword is used?\n",
    "#    Give an example of a generator function."
   ]
  },
  {
   "cell_type": "code",
   "execution_count": null,
   "id": "d6b27c7e-ab31-42b6-bcba-e4f33e88ccde",
   "metadata": {},
   "outputs": [],
   "source": [
    "#   a generator function is a special type of function that returns an iterator object \n",
    "#   which can be used to generate a sequence of values on-the-fly. \n",
    "#    generator functions use the \"yield\" keyword to pause the function's \n",
    "#    execution and return a value to the caller."
   ]
  },
  {
   "cell_type": "code",
   "execution_count": 13,
   "id": "1b6b7964-973f-4442-ad46-a05b8cc5931e",
   "metadata": {},
   "outputs": [],
   "source": [
    "def test1 (n) :\n",
    "    a,b = 0,1\n",
    "    for i in range(n):\n",
    "        yield a \n",
    "        a,b = b ,a+b "
   ]
  },
  {
   "cell_type": "code",
   "execution_count": 15,
   "id": "fd0ffabf-9f14-4f54-9ec0-23d8eb0457fe",
   "metadata": {},
   "outputs": [
    {
     "name": "stdout",
     "output_type": "stream",
     "text": [
      "0\n",
      "1\n",
      "1\n",
      "2\n",
      "3\n",
      "5\n",
      "8\n",
      "13\n",
      "21\n",
      "34\n"
     ]
    }
   ],
   "source": [
    "for i in test1(10) : \n",
    "    print(i)"
   ]
  },
  {
   "cell_type": "code",
   "execution_count": null,
   "id": "d73926aa-3c5f-40a0-8537-ba8839dc172f",
   "metadata": {},
   "outputs": [],
   "source": [
    "\n",
    "#Q5. Create a generator function for prime numbers less than 1000.\n",
    "#    Use the next() method to print the first 20 prime numbers.\n"
   ]
  },
  {
   "cell_type": "code",
   "execution_count": 16,
   "id": "a5bc08f8-76ea-4bb3-995a-bc92744c139f",
   "metadata": {},
   "outputs": [
    {
     "ename": "NameError",
     "evalue": "name 'generate_primes' is not defined",
     "output_type": "error",
     "traceback": [
      "\u001b[0;31m---------------------------------------------------------------------------\u001b[0m",
      "\u001b[0;31mNameError\u001b[0m                                 Traceback (most recent call last)",
      "Cell \u001b[0;32mIn[16], line 1\u001b[0m\n\u001b[0;32m----> 1\u001b[0m prime_numbers \u001b[38;5;241m=\u001b[39m \u001b[43mgenerate_primes\u001b[49m()\n\u001b[1;32m      2\u001b[0m \u001b[38;5;28;01mfor\u001b[39;00m i \u001b[38;5;129;01min\u001b[39;00m \u001b[38;5;28mrange\u001b[39m(\u001b[38;5;241m20\u001b[39m):\n\u001b[1;32m      3\u001b[0m     \u001b[38;5;28mprint\u001b[39m(\u001b[38;5;28mnext\u001b[39m(prime_numbers))\n",
      "\u001b[0;31mNameError\u001b[0m: name 'generate_primes' is not defined"
     ]
    }
   ],
   "source": [
    "prime_numbers = generate_primes()\n",
    "for i in range(20):\n",
    "    print(next(prime_numbers))"
   ]
  },
  {
   "cell_type": "code",
   "execution_count": null,
   "id": "985c0a81-cf8c-424b-ab2f-0b84ec88b17c",
   "metadata": {},
   "outputs": [],
   "source": []
  }
 ],
 "metadata": {
  "kernelspec": {
   "display_name": "Python 3 (ipykernel)",
   "language": "python",
   "name": "python3"
  },
  "language_info": {
   "codemirror_mode": {
    "name": "ipython",
    "version": 3
   },
   "file_extension": ".py",
   "mimetype": "text/x-python",
   "name": "python",
   "nbconvert_exporter": "python",
   "pygments_lexer": "ipython3",
   "version": "3.10.8"
  }
 },
 "nbformat": 4,
 "nbformat_minor": 5
}
